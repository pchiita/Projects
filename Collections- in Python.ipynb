{
  "nbformat": 4,
  "nbformat_minor": 0,
  "metadata": {
    "colab": {
      "name": "Collections.ipynb",
      "version": "0.3.2",
      "provenance": []
    },
    "language_info": {
      "codemirror_mode": {
        "name": "ipython",
        "version": 3
      },
      "file_extension": ".py",
      "mimetype": "text/x-python",
      "name": "python",
      "nbconvert_exporter": "python",
      "pygments_lexer": "ipython3",
      "version": "3.6.8"
    },
    "kernelspec": {
      "display_name": "Python 3",
      "language": "python",
      "name": "python3"
    }
  },
  "cells": [
    {
      "cell_type": "code",
      "metadata": {
        "id": "5WUH7IS4e-92",
        "colab_type": "code",
        "colab": {}
      },
      "source": [
        "#Collections\n",
        "# 1. List\n",
        "# 2. Dictionaries\n",
        "# 3. Tuples\n",
        "# 4. Set"
      ],
      "execution_count": 0,
      "outputs": []
    },
    {
      "cell_type": "code",
      "metadata": {
        "id": "Kh4cYDNhe-98",
        "colab_type": "code",
        "colab": {}
      },
      "source": [
        "#List"
      ],
      "execution_count": 0,
      "outputs": []
    },
    {
      "cell_type": "code",
      "metadata": {
        "id": "c16YmI1Ee-9_",
        "colab_type": "code",
        "colab": {},
        "outputId": "ad2e92ba-254e-447e-9158-8d2669491dc4"
      },
      "source": [
        "list1 = [1,2,3,4,5,6,7,8]\n",
        "type(list1)"
      ],
      "execution_count": 0,
      "outputs": [
        {
          "output_type": "execute_result",
          "data": {
            "text/plain": [
              "list"
            ]
          },
          "metadata": {
            "tags": []
          },
          "execution_count": 3
        }
      ]
    },
    {
      "cell_type": "code",
      "metadata": {
        "id": "LYUP0nHGe--I",
        "colab_type": "code",
        "colab": {},
        "outputId": "e93f790a-3f22-4c8f-80f9-68e561886532"
      },
      "source": [
        "#Appending\n",
        "list1.append(9)\n",
        "list1"
      ],
      "execution_count": 0,
      "outputs": [
        {
          "output_type": "execute_result",
          "data": {
            "text/plain": [
              "[1, 2, 3, 4, 5, 6, 7, 8, 9]"
            ]
          },
          "metadata": {
            "tags": []
          },
          "execution_count": 14
        }
      ]
    },
    {
      "cell_type": "code",
      "metadata": {
        "id": "r4q0ZBwJe--M",
        "colab_type": "code",
        "colab": {},
        "outputId": "da4bec1b-8a3c-4d7d-ff2a-fdfe16b5a663"
      },
      "source": [
        "#Modifying values\n",
        "#List is mutable in nature\n",
        "list1[1]=200\n",
        "list1"
      ],
      "execution_count": 0,
      "outputs": [
        {
          "output_type": "execute_result",
          "data": {
            "text/plain": [
              "[1, 200, 3, 4, 5, 6, 7, 8, 9]"
            ]
          },
          "metadata": {
            "tags": []
          },
          "execution_count": 15
        }
      ]
    },
    {
      "cell_type": "code",
      "metadata": {
        "id": "qz-I23Qce--R",
        "colab_type": "code",
        "colab": {},
        "outputId": "4fb12988-1268-4dfc-e88a-f3bea037c9a5"
      },
      "source": [
        "list1[0]"
      ],
      "execution_count": 0,
      "outputs": [
        {
          "output_type": "execute_result",
          "data": {
            "text/plain": [
              "1"
            ]
          },
          "metadata": {
            "tags": []
          },
          "execution_count": 4
        }
      ]
    },
    {
      "cell_type": "code",
      "metadata": {
        "id": "2A9dKg45e--V",
        "colab_type": "code",
        "colab": {},
        "outputId": "d1465321-ed62-4651-adac-b1d2bd67c41e"
      },
      "source": [
        "list1[3:7]"
      ],
      "execution_count": 0,
      "outputs": [
        {
          "output_type": "execute_result",
          "data": {
            "text/plain": [
              "[4, 5, 6, 7]"
            ]
          },
          "metadata": {
            "tags": []
          },
          "execution_count": 5
        }
      ]
    },
    {
      "cell_type": "code",
      "metadata": {
        "id": "8E2Yc0Vze--Z",
        "colab_type": "code",
        "colab": {}
      },
      "source": [
        "list2 = ['Welcome', 1,2,3,[1,2,'Hello']]"
      ],
      "execution_count": 0,
      "outputs": []
    },
    {
      "cell_type": "code",
      "metadata": {
        "id": "D10FE-gBe--d",
        "colab_type": "code",
        "colab": {},
        "outputId": "9ab5a238-2b5c-4d8f-c1d8-5f6756a0109c"
      },
      "source": [
        "list2[4][2]"
      ],
      "execution_count": 0,
      "outputs": [
        {
          "output_type": "execute_result",
          "data": {
            "text/plain": [
              "'Hello'"
            ]
          },
          "metadata": {
            "tags": []
          },
          "execution_count": 8
        }
      ]
    },
    {
      "cell_type": "code",
      "metadata": {
        "id": "Zf5PsYEse--h",
        "colab_type": "code",
        "colab": {}
      },
      "source": [
        "listCheck = [1,2,'America',['China',76,23,45,['Asia',['India']]]]"
      ],
      "execution_count": 0,
      "outputs": []
    },
    {
      "cell_type": "code",
      "metadata": {
        "id": "989Ati7Ee--k",
        "colab_type": "code",
        "colab": {},
        "outputId": "db1bf213-b902-480b-946d-8e382c362f97"
      },
      "source": [
        "listCheck[3][4][1][0]"
      ],
      "execution_count": 0,
      "outputs": [
        {
          "output_type": "execute_result",
          "data": {
            "text/plain": [
              "'India'"
            ]
          },
          "metadata": {
            "tags": []
          },
          "execution_count": 13
        }
      ]
    },
    {
      "cell_type": "code",
      "metadata": {
        "id": "zA7aPHiBe--p",
        "colab_type": "code",
        "colab": {},
        "outputId": "c2951e11-ca1e-4678-ed6b-b72e5ef2417b"
      },
      "source": [
        "#Tuples\n",
        "tuple1 = (1,2,3,5)\n",
        "type(tuple1)"
      ],
      "execution_count": 0,
      "outputs": [
        {
          "output_type": "execute_result",
          "data": {
            "text/plain": [
              "tuple"
            ]
          },
          "metadata": {
            "tags": []
          },
          "execution_count": 16
        }
      ]
    },
    {
      "cell_type": "code",
      "metadata": {
        "id": "GOpFsDCPe--t",
        "colab_type": "code",
        "colab": {},
        "outputId": "999a873a-8527-4287-965e-87bc6533e53f"
      },
      "source": [
        "tuple1[2]"
      ],
      "execution_count": 0,
      "outputs": [
        {
          "output_type": "execute_result",
          "data": {
            "text/plain": [
              "3"
            ]
          },
          "metadata": {
            "tags": []
          },
          "execution_count": 17
        }
      ]
    },
    {
      "cell_type": "code",
      "metadata": {
        "id": "iBIzQT7Ee--y",
        "colab_type": "code",
        "colab": {},
        "outputId": "5ccb169a-1136-4fb7-a62c-9b2549e56f7f"
      },
      "source": [
        "tuple1[2]=300 #Tuples are immutable "
      ],
      "execution_count": 0,
      "outputs": [
        {
          "output_type": "error",
          "ename": "TypeError",
          "evalue": "'tuple' object does not support item assignment",
          "traceback": [
            "\u001b[0;31m---------------------------------------------------------------------------\u001b[0m",
            "\u001b[0;31mTypeError\u001b[0m                                 Traceback (most recent call last)",
            "\u001b[0;32m<ipython-input-18-fd08a2902430>\u001b[0m in \u001b[0;36m<module>\u001b[0;34m\u001b[0m\n\u001b[0;32m----> 1\u001b[0;31m \u001b[0mtuple1\u001b[0m\u001b[0;34m[\u001b[0m\u001b[0;36m2\u001b[0m\u001b[0;34m]\u001b[0m\u001b[0;34m=\u001b[0m\u001b[0;36m300\u001b[0m\u001b[0;34m\u001b[0m\u001b[0;34m\u001b[0m\u001b[0m\n\u001b[0m",
            "\u001b[0;31mTypeError\u001b[0m: 'tuple' object does not support item assignment"
          ]
        }
      ]
    },
    {
      "cell_type": "code",
      "metadata": {
        "id": "aBncqHLde--4",
        "colab_type": "code",
        "colab": {},
        "outputId": "b866b64c-2cf9-418b-a283-9b5c46238a2c"
      },
      "source": [
        "#Dictionary\n",
        "#Maintains your data in the form of Key,Value pair\n",
        "#Lookup Table\n",
        "capitals = {'Maharashtra':'Mumbai',\n",
        "           'Goa':'Panjim',\n",
        "           'Karnataka':'Bengaluru'}\n",
        "type(capitals)"
      ],
      "execution_count": 0,
      "outputs": [
        {
          "output_type": "execute_result",
          "data": {
            "text/plain": [
              "dict"
            ]
          },
          "metadata": {
            "tags": []
          },
          "execution_count": 19
        }
      ]
    },
    {
      "cell_type": "code",
      "metadata": {
        "id": "AfK5HQ9se-_B",
        "colab_type": "code",
        "colab": {},
        "outputId": "121282f0-3993-40b4-ab1b-c15ebfd87eb6"
      },
      "source": [
        "#Accessing data - Data is ideally accessed based on Key Part of the data\n",
        "capitals['Maharashtra']"
      ],
      "execution_count": 0,
      "outputs": [
        {
          "output_type": "execute_result",
          "data": {
            "text/plain": [
              "'Mumbai'"
            ]
          },
          "metadata": {
            "tags": []
          },
          "execution_count": 20
        }
      ]
    },
    {
      "cell_type": "code",
      "metadata": {
        "id": "0MeNaNrJe-_K",
        "colab_type": "code",
        "colab": {},
        "outputId": "d4425c46-0cbe-4b39-b288-37df508d5776"
      },
      "source": [
        "capitals.keys()"
      ],
      "execution_count": 0,
      "outputs": [
        {
          "output_type": "execute_result",
          "data": {
            "text/plain": [
              "dict_keys(['Maharashtra', 'Goa', 'Karnataka'])"
            ]
          },
          "metadata": {
            "tags": []
          },
          "execution_count": 22
        }
      ]
    },
    {
      "cell_type": "code",
      "metadata": {
        "id": "m1HfB8BNe-_P",
        "colab_type": "code",
        "colab": {},
        "outputId": "e83774d2-9247-48e7-be42-4093f31c5982"
      },
      "source": [
        "capitals.values()"
      ],
      "execution_count": 0,
      "outputs": [
        {
          "output_type": "execute_result",
          "data": {
            "text/plain": [
              "dict_values(['Mumbai', 'Panjim', 'Bengaluru'])"
            ]
          },
          "metadata": {
            "tags": []
          },
          "execution_count": 23
        }
      ]
    },
    {
      "cell_type": "code",
      "metadata": {
        "id": "6bvssQDXe-_V",
        "colab_type": "code",
        "colab": {},
        "outputId": "1d97b974-0245-4efa-a660-7ac68854574b"
      },
      "source": [
        "capitals"
      ],
      "execution_count": 0,
      "outputs": [
        {
          "output_type": "execute_result",
          "data": {
            "text/plain": [
              "{'Maharashtra': 'Mumbai', 'Goa': 'Panjim', 'Karnataka': 'Bengaluru'}"
            ]
          },
          "metadata": {
            "tags": []
          },
          "execution_count": 24
        }
      ]
    },
    {
      "cell_type": "code",
      "metadata": {
        "id": "Km7zyECme-_e",
        "colab_type": "code",
        "colab": {},
        "outputId": "9ac2981e-5a78-45ad-fe22-743822d8cfed"
      },
      "source": [
        "#Add Elements in Dictionary\n",
        "capitals['Gujurat'] = 'Gandhinagar'\n",
        "capitals"
      ],
      "execution_count": 0,
      "outputs": [
        {
          "output_type": "execute_result",
          "data": {
            "text/plain": [
              "{'Maharashtra': 'Mumbai',\n",
              " 'Goa': 'Panjim',\n",
              " 'Karnataka': 'Bengaluru',\n",
              " 'Gujurat': 'Gandhinagar'}"
            ]
          },
          "metadata": {
            "tags": []
          },
          "execution_count": 25
        }
      ]
    },
    {
      "cell_type": "code",
      "metadata": {
        "id": "dqj7qKVBe-_n",
        "colab_type": "code",
        "colab": {},
        "outputId": "7c1724ce-d8b2-441e-b6b5-bc47c6e23e59"
      },
      "source": [
        "capitals['Goa']='Panaji'\n",
        "capitals"
      ],
      "execution_count": 0,
      "outputs": [
        {
          "output_type": "execute_result",
          "data": {
            "text/plain": [
              "{'Maharashtra': 'Mumbai',\n",
              " 'Goa': 'Panaji',\n",
              " 'Karnataka': 'Bengaluru',\n",
              " 'Gujurat': 'Gandhinagar'}"
            ]
          },
          "metadata": {
            "tags": []
          },
          "execution_count": 26
        }
      ]
    },
    {
      "cell_type": "code",
      "metadata": {
        "id": "9M-KVWXfe-_s",
        "colab_type": "code",
        "colab": {},
        "outputId": "88602cce-3444-49a2-87dd-39e4e4d6bbdb"
      },
      "source": [
        "capitals['Bihar']"
      ],
      "execution_count": 0,
      "outputs": [
        {
          "output_type": "error",
          "ename": "KeyError",
          "evalue": "'Bihar'",
          "traceback": [
            "\u001b[0;31m---------------------------------------------------------------------------\u001b[0m",
            "\u001b[0;31mKeyError\u001b[0m                                  Traceback (most recent call last)",
            "\u001b[0;32m<ipython-input-27-5738b18c6703>\u001b[0m in \u001b[0;36m<module>\u001b[0;34m\u001b[0m\n\u001b[0;32m----> 1\u001b[0;31m \u001b[0mcapitals\u001b[0m\u001b[0;34m[\u001b[0m\u001b[0;34m'Bihar'\u001b[0m\u001b[0;34m]\u001b[0m\u001b[0;34m\u001b[0m\u001b[0;34m\u001b[0m\u001b[0m\n\u001b[0m",
            "\u001b[0;31mKeyError\u001b[0m: 'Bihar'"
          ]
        }
      ]
    },
    {
      "cell_type": "code",
      "metadata": {
        "id": "zrXAVGs1e-_w",
        "colab_type": "code",
        "colab": {},
        "outputId": "b7db48d8-1316-4c1c-eccb-65ff9a6c3226"
      },
      "source": [
        "'Bihar' in capitals"
      ],
      "execution_count": 0,
      "outputs": [
        {
          "output_type": "execute_result",
          "data": {
            "text/plain": [
              "False"
            ]
          },
          "metadata": {
            "tags": []
          },
          "execution_count": 28
        }
      ]
    },
    {
      "cell_type": "code",
      "metadata": {
        "id": "qHJNwNJqe-_1",
        "colab_type": "code",
        "colab": {},
        "outputId": "1219b69d-1bb0-4634-9c34-4a348acb6404"
      },
      "source": [
        "'Goa' in capitals"
      ],
      "execution_count": 0,
      "outputs": [
        {
          "output_type": "execute_result",
          "data": {
            "text/plain": [
              "True"
            ]
          },
          "metadata": {
            "tags": []
          },
          "execution_count": 29
        }
      ]
    },
    {
      "cell_type": "code",
      "metadata": {
        "id": "4AFkv-HHe-_6",
        "colab_type": "code",
        "colab": {},
        "outputId": "f5ef9bb0-0e98-4feb-f8a5-5951ecdf750b"
      },
      "source": [
        "'Mumbai' in capitals"
      ],
      "execution_count": 0,
      "outputs": [
        {
          "output_type": "execute_result",
          "data": {
            "text/plain": [
              "False"
            ]
          },
          "metadata": {
            "tags": []
          },
          "execution_count": 30
        }
      ]
    },
    {
      "cell_type": "code",
      "metadata": {
        "id": "MIw4g23Ie-_-",
        "colab_type": "code",
        "colab": {}
      },
      "source": [
        "#Sets\n",
        "set1 = {1,2,34,2,2,2,2,2,2,22}"
      ],
      "execution_count": 0,
      "outputs": []
    },
    {
      "cell_type": "code",
      "metadata": {
        "id": "jDgkzj-oe_AC",
        "colab_type": "code",
        "colab": {},
        "outputId": "e54d845e-50eb-47be-98f2-5909334ed11b"
      },
      "source": [
        "type(set1)"
      ],
      "execution_count": 0,
      "outputs": [
        {
          "output_type": "execute_result",
          "data": {
            "text/plain": [
              "set"
            ]
          },
          "metadata": {
            "tags": []
          },
          "execution_count": 34
        }
      ]
    },
    {
      "cell_type": "code",
      "metadata": {
        "id": "eP2pRAhQe_AG",
        "colab_type": "code",
        "colab": {},
        "outputId": "b24e6e1d-8f53-4481-bf4d-0bab238fefb3"
      },
      "source": [
        "set1"
      ],
      "execution_count": 0,
      "outputs": [
        {
          "output_type": "execute_result",
          "data": {
            "text/plain": [
              "{1, 2, 22, 34}"
            ]
          },
          "metadata": {
            "tags": []
          },
          "execution_count": 35
        }
      ]
    }
  ]
}