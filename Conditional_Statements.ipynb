{
  "nbformat": 4,
  "nbformat_minor": 0,
  "metadata": {
    "colab": {
      "name": "Conditional Statements.ipynb",
      "version": "0.3.2",
      "provenance": []
    },
    "language_info": {
      "codemirror_mode": {
        "name": "ipython",
        "version": 3
      },
      "file_extension": ".py",
      "mimetype": "text/x-python",
      "name": "python",
      "nbconvert_exporter": "python",
      "pygments_lexer": "ipython3",
      "version": "3.6.8"
    },
    "kernelspec": {
      "display_name": "Python 3",
      "language": "python",
      "name": "python3"
    }
  },
  "cells": [
    {
      "cell_type": "code",
      "metadata": {
        "id": "3MJMyFAnfjEv",
        "colab_type": "code",
        "colab": {},
        "outputId": "feda4a68-f195-4f06-e4d1-8795e3397afb"
      },
      "source": [
        "#boolean\n",
        "True"
      ],
      "execution_count": 0,
      "outputs": [
        {
          "output_type": "execute_result",
          "data": {
            "text/plain": [
              "True"
            ]
          },
          "metadata": {
            "tags": []
          },
          "execution_count": 1
        }
      ]
    },
    {
      "cell_type": "code",
      "metadata": {
        "id": "a38rhxbxfjFO",
        "colab_type": "code",
        "colab": {},
        "outputId": "81431007-bb1a-49b9-b161-5a9efc8a6744"
      },
      "source": [
        "False"
      ],
      "execution_count": 0,
      "outputs": [
        {
          "output_type": "execute_result",
          "data": {
            "text/plain": [
              "False"
            ]
          },
          "metadata": {
            "tags": []
          },
          "execution_count": 2
        }
      ]
    },
    {
      "cell_type": "code",
      "metadata": {
        "id": "2WS9ar-ifjFV",
        "colab_type": "code",
        "colab": {}
      },
      "source": [
        "#Conditional Operators\n",
        "# 1. if statement\n",
        "# 2. if ... else statement\n",
        "# 3. if ... elif ...elif ... else statement"
      ],
      "execution_count": 0,
      "outputs": []
    },
    {
      "cell_type": "code",
      "metadata": {
        "id": "AqWgXulWfjFa",
        "colab_type": "code",
        "colab": {}
      },
      "source": [
        "#Single condition\n",
        "temp = 2\n",
        "if temp > 35:\n",
        "    print('High Temp')"
      ],
      "execution_count": 0,
      "outputs": []
    },
    {
      "cell_type": "code",
      "metadata": {
        "id": "dIN6loScfjFf",
        "colab_type": "code",
        "colab": {},
        "outputId": "ea91eab9-786c-4493-e32c-e3b6314088bb"
      },
      "source": [
        "#Two conditions (either or)\n",
        "temp = 40\n",
        "if temp > 35:\n",
        "    print('High Temp')\n",
        "else:\n",
        "    print('Low Temp')"
      ],
      "execution_count": 0,
      "outputs": [
        {
          "output_type": "stream",
          "text": [
            "High Temp\n"
          ],
          "name": "stdout"
        }
      ]
    },
    {
      "cell_type": "code",
      "metadata": {
        "id": "PhFMTo6gfjFk",
        "colab_type": "code",
        "colab": {},
        "outputId": "80bef716-769d-4f11-ffd7-faf8fb4ba2d7"
      },
      "source": [
        "#More than 2 conditions\n",
        "temp = 40\n",
        "if temp > 35:\n",
        "    print('High Temp')\n",
        "elif temp > 10 and temp <= 35:\n",
        "    print('Moderate Temp')\n",
        "else:\n",
        "    print('Low Temp')"
      ],
      "execution_count": 0,
      "outputs": [
        {
          "output_type": "stream",
          "text": [
            "High Temp\n"
          ],
          "name": "stdout"
        }
      ]
    },
    {
      "cell_type": "code",
      "metadata": {
        "id": "NsHle16cfjFp",
        "colab_type": "code",
        "colab": {}
      },
      "source": [
        "#Write a program to accept input from user and identify whether the number is even or odd\n",
        "#Expected output:\n",
        "# Enter number: 3\n",
        "# Given number 3 is ODD"
      ],
      "execution_count": 0,
      "outputs": []
    },
    {
      "cell_type": "code",
      "metadata": {
        "id": "hMXRES4xfjFu",
        "colab_type": "code",
        "colab": {}
      },
      "source": [
        "#Ternary Operator"
      ],
      "execution_count": 0,
      "outputs": []
    },
    {
      "cell_type": "code",
      "metadata": {
        "id": "1O4X70QYfjFy",
        "colab_type": "code",
        "colab": {},
        "outputId": "cab015a2-df93-4338-caa2-a510a9c1adc0"
      },
      "source": [
        "#licence eligibility\n",
        "age = 22\n",
        "if age >= 18:\n",
        "    print('Eligible')\n",
        "else:\n",
        "    print('Not Eligible')"
      ],
      "execution_count": 0,
      "outputs": [
        {
          "output_type": "stream",
          "text": [
            "Eligible\n"
          ],
          "name": "stdout"
        }
      ]
    },
    {
      "cell_type": "code",
      "metadata": {
        "id": "TgN4cHL6fjF7",
        "colab_type": "code",
        "colab": {},
        "outputId": "ed862493-1892-40ef-912f-e3e9f44e3aed"
      },
      "source": [
        "# Coding Practice -- Never use print directly\n",
        "age = 22\n",
        "if age >= 18:\n",
        "    message = 'Eligible'\n",
        "else:\n",
        "    message = 'Not Eligible'\n",
        "\n",
        "print(message)"
      ],
      "execution_count": 0,
      "outputs": [
        {
          "output_type": "stream",
          "text": [
            "Eligible\n"
          ],
          "name": "stdout"
        }
      ]
    },
    {
      "cell_type": "code",
      "metadata": {
        "id": "KaqRDw2VfjGM",
        "colab_type": "code",
        "colab": {},
        "outputId": "c830c1a1-8ab7-4b97-fe60-27c109f1dfc9"
      },
      "source": [
        "age = 22\n",
        "message = 'Eligible' if age >=18 else 'Not Eligible'\n",
        "print(message)"
      ],
      "execution_count": 0,
      "outputs": [
        {
          "output_type": "stream",
          "text": [
            "Eligible\n"
          ],
          "name": "stdout"
        }
      ]
    },
    {
      "cell_type": "code",
      "metadata": {
        "id": "G6XBuK7HfjGd",
        "colab_type": "code",
        "colab": {}
      },
      "source": [
        ""
      ],
      "execution_count": 0,
      "outputs": []
    }
  ]
}