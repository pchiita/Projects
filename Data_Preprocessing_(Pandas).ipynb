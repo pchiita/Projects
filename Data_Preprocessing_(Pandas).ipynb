{
  "nbformat": 4,
  "nbformat_minor": 0,
  "metadata": {
    "colab": {
      "name": "Data Preprocessing (Pandas).ipynb",
      "version": "0.3.2",
      "provenance": []
    },
    "language_info": {
      "codemirror_mode": {
        "name": "ipython",
        "version": 3
      },
      "file_extension": ".py",
      "mimetype": "text/x-python",
      "name": "python",
      "nbconvert_exporter": "python",
      "pygments_lexer": "ipython3",
      "version": "3.7.3"
    },
    "kernelspec": {
      "display_name": "Python 3",
      "language": "python",
      "name": "python3"
    }
  },
  "cells": [
    {
      "cell_type": "code",
      "metadata": {
        "id": "ByYsBDu5p6h9",
        "colab_type": "code",
        "colab": {}
      },
      "source": [
        "import numpy as np\n",
        "import pandas as pd"
      ],
      "execution_count": 0,
      "outputs": []
    },
    {
      "cell_type": "code",
      "metadata": {
        "id": "9BxpJTlpp6iK",
        "colab_type": "code",
        "colab": {}
      },
      "source": [
        "data = pd.read_csv('pre-process_datasample_2.csv')"
      ],
      "execution_count": 0,
      "outputs": []
    },
    {
      "cell_type": "code",
      "metadata": {
        "id": "2-KQf32Qp6iY",
        "colab_type": "code",
        "colab": {},
        "outputId": "6a472696-d1f6-4b78-ddf2-2710319e7c6e"
      },
      "source": [
        "data.info()"
      ],
      "execution_count": 0,
      "outputs": [
        {
          "output_type": "stream",
          "text": [
            "<class 'pandas.core.frame.DataFrame'>\n",
            "RangeIndex: 12 entries, 0 to 11\n",
            "Data columns (total 4 columns):\n",
            "Country      11 non-null object\n",
            "Age          11 non-null float64\n",
            "Salary       11 non-null float64\n",
            "Purchased    11 non-null object\n",
            "dtypes: float64(2), object(2)\n",
            "memory usage: 464.0+ bytes\n"
          ],
          "name": "stdout"
        }
      ]
    },
    {
      "cell_type": "code",
      "metadata": {
        "id": "BWaZUgVVp6iq",
        "colab_type": "code",
        "colab": {},
        "outputId": "a72b01ba-8601-43c9-e6ad-f38f42ce04bc"
      },
      "source": [
        "data.head()"
      ],
      "execution_count": 0,
      "outputs": [
        {
          "output_type": "execute_result",
          "data": {
            "text/html": [
              "<div>\n",
              "<style scoped>\n",
              "    .dataframe tbody tr th:only-of-type {\n",
              "        vertical-align: middle;\n",
              "    }\n",
              "\n",
              "    .dataframe tbody tr th {\n",
              "        vertical-align: top;\n",
              "    }\n",
              "\n",
              "    .dataframe thead th {\n",
              "        text-align: right;\n",
              "    }\n",
              "</style>\n",
              "<table border=\"1\" class=\"dataframe\">\n",
              "  <thead>\n",
              "    <tr style=\"text-align: right;\">\n",
              "      <th></th>\n",
              "      <th>Country</th>\n",
              "      <th>Age</th>\n",
              "      <th>Salary</th>\n",
              "      <th>Purchased</th>\n",
              "    </tr>\n",
              "  </thead>\n",
              "  <tbody>\n",
              "    <tr>\n",
              "      <th>0</th>\n",
              "      <td>France</td>\n",
              "      <td>44.0</td>\n",
              "      <td>72000.0</td>\n",
              "      <td>No</td>\n",
              "    </tr>\n",
              "    <tr>\n",
              "      <th>1</th>\n",
              "      <td>Spain</td>\n",
              "      <td>27.0</td>\n",
              "      <td>48000.0</td>\n",
              "      <td>Yes</td>\n",
              "    </tr>\n",
              "    <tr>\n",
              "      <th>2</th>\n",
              "      <td>Germany</td>\n",
              "      <td>30.0</td>\n",
              "      <td>54000.0</td>\n",
              "      <td>No</td>\n",
              "    </tr>\n",
              "    <tr>\n",
              "      <th>3</th>\n",
              "      <td>Spain</td>\n",
              "      <td>38.0</td>\n",
              "      <td>61000.0</td>\n",
              "      <td>No</td>\n",
              "    </tr>\n",
              "    <tr>\n",
              "      <th>4</th>\n",
              "      <td>Germany</td>\n",
              "      <td>40.0</td>\n",
              "      <td>NaN</td>\n",
              "      <td>Yes</td>\n",
              "    </tr>\n",
              "  </tbody>\n",
              "</table>\n",
              "</div>"
            ],
            "text/plain": [
              "   Country   Age   Salary Purchased\n",
              "0   France  44.0  72000.0        No\n",
              "1    Spain  27.0  48000.0       Yes\n",
              "2  Germany  30.0  54000.0        No\n",
              "3    Spain  38.0  61000.0        No\n",
              "4  Germany  40.0      NaN       Yes"
            ]
          },
          "metadata": {
            "tags": []
          },
          "execution_count": 4
        }
      ]
    },
    {
      "cell_type": "code",
      "metadata": {
        "id": "UXZtqe-cp6i6",
        "colab_type": "code",
        "colab": {},
        "outputId": "b7a188bb-f4f5-4d81-e372-60eb7bbe6984"
      },
      "source": [
        "data.describe()"
      ],
      "execution_count": 0,
      "outputs": [
        {
          "output_type": "execute_result",
          "data": {
            "text/html": [
              "<div>\n",
              "<style scoped>\n",
              "    .dataframe tbody tr th:only-of-type {\n",
              "        vertical-align: middle;\n",
              "    }\n",
              "\n",
              "    .dataframe tbody tr th {\n",
              "        vertical-align: top;\n",
              "    }\n",
              "\n",
              "    .dataframe thead th {\n",
              "        text-align: right;\n",
              "    }\n",
              "</style>\n",
              "<table border=\"1\" class=\"dataframe\">\n",
              "  <thead>\n",
              "    <tr style=\"text-align: right;\">\n",
              "      <th></th>\n",
              "      <th>Age</th>\n",
              "      <th>Salary</th>\n",
              "    </tr>\n",
              "  </thead>\n",
              "  <tbody>\n",
              "    <tr>\n",
              "      <th>count</th>\n",
              "      <td>11.000000</td>\n",
              "      <td>11.000000</td>\n",
              "    </tr>\n",
              "    <tr>\n",
              "      <th>mean</th>\n",
              "      <td>40.909091</td>\n",
              "      <td>62434.272727</td>\n",
              "    </tr>\n",
              "    <tr>\n",
              "      <th>std</th>\n",
              "      <td>11.148583</td>\n",
              "      <td>12459.130019</td>\n",
              "    </tr>\n",
              "    <tr>\n",
              "      <th>min</th>\n",
              "      <td>27.000000</td>\n",
              "      <td>45000.000000</td>\n",
              "    </tr>\n",
              "    <tr>\n",
              "      <th>25%</th>\n",
              "      <td>34.500000</td>\n",
              "      <td>53000.000000</td>\n",
              "    </tr>\n",
              "    <tr>\n",
              "      <th>50%</th>\n",
              "      <td>38.000000</td>\n",
              "      <td>61000.000000</td>\n",
              "    </tr>\n",
              "    <tr>\n",
              "      <th>75%</th>\n",
              "      <td>46.000000</td>\n",
              "      <td>69888.500000</td>\n",
              "    </tr>\n",
              "    <tr>\n",
              "      <th>max</th>\n",
              "      <td>67.000000</td>\n",
              "      <td>83000.000000</td>\n",
              "    </tr>\n",
              "  </tbody>\n",
              "</table>\n",
              "</div>"
            ],
            "text/plain": [
              "             Age        Salary\n",
              "count  11.000000     11.000000\n",
              "mean   40.909091  62434.272727\n",
              "std    11.148583  12459.130019\n",
              "min    27.000000  45000.000000\n",
              "25%    34.500000  53000.000000\n",
              "50%    38.000000  61000.000000\n",
              "75%    46.000000  69888.500000\n",
              "max    67.000000  83000.000000"
            ]
          },
          "metadata": {
            "tags": []
          },
          "execution_count": 5
        }
      ]
    },
    {
      "cell_type": "code",
      "metadata": {
        "id": "wRlMt0Z-p6jG",
        "colab_type": "code",
        "colab": {}
      },
      "source": [
        "#Delete the record where the label is missing\n",
        "#drop() ----> Requires index\n",
        "data.drop(data.index[data.Purchased.isna()] , inplace=True )\n"
      ],
      "execution_count": 0,
      "outputs": []
    },
    {
      "cell_type": "code",
      "metadata": {
        "id": "TA7AKjzkp6jP",
        "colab_type": "code",
        "colab": {},
        "outputId": "e230c809-caf2-4ca7-b5fd-e14d34ffc319"
      },
      "source": [
        "#Handle age column\n",
        "#Mean \n",
        "data.Age.mean()"
      ],
      "execution_count": 0,
      "outputs": [
        {
          "output_type": "execute_result",
          "data": {
            "text/plain": [
              "38.3"
            ]
          },
          "metadata": {
            "tags": []
          },
          "execution_count": 13
        }
      ]
    },
    {
      "cell_type": "code",
      "metadata": {
        "id": "jEZ-O7Idp6jZ",
        "colab_type": "code",
        "colab": {},
        "outputId": "137b5c8a-f503-420c-eda8-c412a303aae9"
      },
      "source": [
        "#fillna means replace NaN with the value assigned in the function\n",
        "data.Age.fillna(data.Age.mean() , inplace=True)\n",
        "data"
      ],
      "execution_count": 0,
      "outputs": [
        {
          "output_type": "execute_result",
          "data": {
            "text/html": [
              "<div>\n",
              "<style scoped>\n",
              "    .dataframe tbody tr th:only-of-type {\n",
              "        vertical-align: middle;\n",
              "    }\n",
              "\n",
              "    .dataframe tbody tr th {\n",
              "        vertical-align: top;\n",
              "    }\n",
              "\n",
              "    .dataframe thead th {\n",
              "        text-align: right;\n",
              "    }\n",
              "</style>\n",
              "<table border=\"1\" class=\"dataframe\">\n",
              "  <thead>\n",
              "    <tr style=\"text-align: right;\">\n",
              "      <th></th>\n",
              "      <th>Country</th>\n",
              "      <th>Age</th>\n",
              "      <th>Salary</th>\n",
              "      <th>Purchased</th>\n",
              "    </tr>\n",
              "  </thead>\n",
              "  <tbody>\n",
              "    <tr>\n",
              "      <th>0</th>\n",
              "      <td>France</td>\n",
              "      <td>44.0</td>\n",
              "      <td>72000.0</td>\n",
              "      <td>No</td>\n",
              "    </tr>\n",
              "    <tr>\n",
              "      <th>1</th>\n",
              "      <td>Spain</td>\n",
              "      <td>27.0</td>\n",
              "      <td>48000.0</td>\n",
              "      <td>Yes</td>\n",
              "    </tr>\n",
              "    <tr>\n",
              "      <th>2</th>\n",
              "      <td>Germany</td>\n",
              "      <td>30.0</td>\n",
              "      <td>54000.0</td>\n",
              "      <td>No</td>\n",
              "    </tr>\n",
              "    <tr>\n",
              "      <th>3</th>\n",
              "      <td>Spain</td>\n",
              "      <td>38.0</td>\n",
              "      <td>61000.0</td>\n",
              "      <td>No</td>\n",
              "    </tr>\n",
              "    <tr>\n",
              "      <th>4</th>\n",
              "      <td>Germany</td>\n",
              "      <td>40.0</td>\n",
              "      <td>NaN</td>\n",
              "      <td>Yes</td>\n",
              "    </tr>\n",
              "    <tr>\n",
              "      <th>5</th>\n",
              "      <td>France</td>\n",
              "      <td>35.0</td>\n",
              "      <td>58000.0</td>\n",
              "      <td>Yes</td>\n",
              "    </tr>\n",
              "    <tr>\n",
              "      <th>6</th>\n",
              "      <td>Spain</td>\n",
              "      <td>38.3</td>\n",
              "      <td>52000.0</td>\n",
              "      <td>No</td>\n",
              "    </tr>\n",
              "    <tr>\n",
              "      <th>7</th>\n",
              "      <td>France</td>\n",
              "      <td>48.0</td>\n",
              "      <td>79000.0</td>\n",
              "      <td>Yes</td>\n",
              "    </tr>\n",
              "    <tr>\n",
              "      <th>8</th>\n",
              "      <td>Germany</td>\n",
              "      <td>50.0</td>\n",
              "      <td>83000.0</td>\n",
              "      <td>No</td>\n",
              "    </tr>\n",
              "    <tr>\n",
              "      <th>9</th>\n",
              "      <td>France</td>\n",
              "      <td>37.0</td>\n",
              "      <td>67000.0</td>\n",
              "      <td>Yes</td>\n",
              "    </tr>\n",
              "    <tr>\n",
              "      <th>10</th>\n",
              "      <td>NaN</td>\n",
              "      <td>34.0</td>\n",
              "      <td>45000.0</td>\n",
              "      <td>Yes</td>\n",
              "    </tr>\n",
              "  </tbody>\n",
              "</table>\n",
              "</div>"
            ],
            "text/plain": [
              "    Country   Age   Salary Purchased\n",
              "0    France  44.0  72000.0        No\n",
              "1     Spain  27.0  48000.0       Yes\n",
              "2   Germany  30.0  54000.0        No\n",
              "3     Spain  38.0  61000.0        No\n",
              "4   Germany  40.0      NaN       Yes\n",
              "5    France  35.0  58000.0       Yes\n",
              "6     Spain  38.3  52000.0        No\n",
              "7    France  48.0  79000.0       Yes\n",
              "8   Germany  50.0  83000.0        No\n",
              "9    France  37.0  67000.0       Yes\n",
              "10      NaN  34.0  45000.0       Yes"
            ]
          },
          "metadata": {
            "tags": []
          },
          "execution_count": 14
        }
      ]
    },
    {
      "cell_type": "code",
      "metadata": {
        "id": "p_oXsoQnp6jj",
        "colab_type": "code",
        "colab": {},
        "outputId": "9de8cfad-0631-471a-e9ab-ad251787d1b9"
      },
      "source": [
        "data.Salary.fillna(data.Salary.mean(), inplace=True)\n",
        "data"
      ],
      "execution_count": 0,
      "outputs": [
        {
          "output_type": "execute_result",
          "data": {
            "text/html": [
              "<div>\n",
              "<style scoped>\n",
              "    .dataframe tbody tr th:only-of-type {\n",
              "        vertical-align: middle;\n",
              "    }\n",
              "\n",
              "    .dataframe tbody tr th {\n",
              "        vertical-align: top;\n",
              "    }\n",
              "\n",
              "    .dataframe thead th {\n",
              "        text-align: right;\n",
              "    }\n",
              "</style>\n",
              "<table border=\"1\" class=\"dataframe\">\n",
              "  <thead>\n",
              "    <tr style=\"text-align: right;\">\n",
              "      <th></th>\n",
              "      <th>Country</th>\n",
              "      <th>Age</th>\n",
              "      <th>Salary</th>\n",
              "      <th>Purchased</th>\n",
              "    </tr>\n",
              "  </thead>\n",
              "  <tbody>\n",
              "    <tr>\n",
              "      <th>0</th>\n",
              "      <td>France</td>\n",
              "      <td>44.0</td>\n",
              "      <td>72000.0</td>\n",
              "      <td>No</td>\n",
              "    </tr>\n",
              "    <tr>\n",
              "      <th>1</th>\n",
              "      <td>Spain</td>\n",
              "      <td>27.0</td>\n",
              "      <td>48000.0</td>\n",
              "      <td>Yes</td>\n",
              "    </tr>\n",
              "    <tr>\n",
              "      <th>2</th>\n",
              "      <td>Germany</td>\n",
              "      <td>30.0</td>\n",
              "      <td>54000.0</td>\n",
              "      <td>No</td>\n",
              "    </tr>\n",
              "    <tr>\n",
              "      <th>3</th>\n",
              "      <td>Spain</td>\n",
              "      <td>38.0</td>\n",
              "      <td>61000.0</td>\n",
              "      <td>No</td>\n",
              "    </tr>\n",
              "    <tr>\n",
              "      <th>4</th>\n",
              "      <td>Germany</td>\n",
              "      <td>40.0</td>\n",
              "      <td>61900.0</td>\n",
              "      <td>Yes</td>\n",
              "    </tr>\n",
              "    <tr>\n",
              "      <th>5</th>\n",
              "      <td>France</td>\n",
              "      <td>35.0</td>\n",
              "      <td>58000.0</td>\n",
              "      <td>Yes</td>\n",
              "    </tr>\n",
              "    <tr>\n",
              "      <th>6</th>\n",
              "      <td>Spain</td>\n",
              "      <td>38.3</td>\n",
              "      <td>52000.0</td>\n",
              "      <td>No</td>\n",
              "    </tr>\n",
              "    <tr>\n",
              "      <th>7</th>\n",
              "      <td>France</td>\n",
              "      <td>48.0</td>\n",
              "      <td>79000.0</td>\n",
              "      <td>Yes</td>\n",
              "    </tr>\n",
              "    <tr>\n",
              "      <th>8</th>\n",
              "      <td>Germany</td>\n",
              "      <td>50.0</td>\n",
              "      <td>83000.0</td>\n",
              "      <td>No</td>\n",
              "    </tr>\n",
              "    <tr>\n",
              "      <th>9</th>\n",
              "      <td>France</td>\n",
              "      <td>37.0</td>\n",
              "      <td>67000.0</td>\n",
              "      <td>Yes</td>\n",
              "    </tr>\n",
              "    <tr>\n",
              "      <th>10</th>\n",
              "      <td>NaN</td>\n",
              "      <td>34.0</td>\n",
              "      <td>45000.0</td>\n",
              "      <td>Yes</td>\n",
              "    </tr>\n",
              "  </tbody>\n",
              "</table>\n",
              "</div>"
            ],
            "text/plain": [
              "    Country   Age   Salary Purchased\n",
              "0    France  44.0  72000.0        No\n",
              "1     Spain  27.0  48000.0       Yes\n",
              "2   Germany  30.0  54000.0        No\n",
              "3     Spain  38.0  61000.0        No\n",
              "4   Germany  40.0  61900.0       Yes\n",
              "5    France  35.0  58000.0       Yes\n",
              "6     Spain  38.3  52000.0        No\n",
              "7    France  48.0  79000.0       Yes\n",
              "8   Germany  50.0  83000.0        No\n",
              "9    France  37.0  67000.0       Yes\n",
              "10      NaN  34.0  45000.0       Yes"
            ]
          },
          "metadata": {
            "tags": []
          },
          "execution_count": 15
        }
      ]
    },
    {
      "cell_type": "code",
      "metadata": {
        "id": "0QqUO79Np6j1",
        "colab_type": "code",
        "colab": {},
        "outputId": "5ad5da97-613f-4803-c6d1-c4db7ad08d7a"
      },
      "source": [
        "data.Country.mode()[0] #Ensurring the source and destination datatype is same"
      ],
      "execution_count": 0,
      "outputs": [
        {
          "output_type": "execute_result",
          "data": {
            "text/plain": [
              "'France'"
            ]
          },
          "metadata": {
            "tags": []
          },
          "execution_count": 26
        }
      ]
    },
    {
      "cell_type": "code",
      "metadata": {
        "id": "hFG_4OYOp6kE",
        "colab_type": "code",
        "colab": {},
        "outputId": "feb2a74f-bd74-49c2-c35c-28e9a205cc88"
      },
      "source": [
        "data.Country.unique()"
      ],
      "execution_count": 0,
      "outputs": [
        {
          "output_type": "execute_result",
          "data": {
            "text/plain": [
              "array(['France', 'Spain', 'Germany', nan], dtype=object)"
            ]
          },
          "metadata": {
            "tags": []
          },
          "execution_count": 19
        }
      ]
    },
    {
      "cell_type": "code",
      "metadata": {
        "id": "8JSSEAWWp6kT",
        "colab_type": "code",
        "colab": {},
        "outputId": "b0490af5-bf01-4548-b8b2-84add9745b38"
      },
      "source": [
        "data.Country.fillna( data.Country.mode()[0] , inplace=True)\n",
        "data"
      ],
      "execution_count": 0,
      "outputs": [
        {
          "output_type": "execute_result",
          "data": {
            "text/html": [
              "<div>\n",
              "<style scoped>\n",
              "    .dataframe tbody tr th:only-of-type {\n",
              "        vertical-align: middle;\n",
              "    }\n",
              "\n",
              "    .dataframe tbody tr th {\n",
              "        vertical-align: top;\n",
              "    }\n",
              "\n",
              "    .dataframe thead th {\n",
              "        text-align: right;\n",
              "    }\n",
              "</style>\n",
              "<table border=\"1\" class=\"dataframe\">\n",
              "  <thead>\n",
              "    <tr style=\"text-align: right;\">\n",
              "      <th></th>\n",
              "      <th>Country</th>\n",
              "      <th>Age</th>\n",
              "      <th>Salary</th>\n",
              "      <th>Purchased</th>\n",
              "    </tr>\n",
              "  </thead>\n",
              "  <tbody>\n",
              "    <tr>\n",
              "      <th>0</th>\n",
              "      <td>France</td>\n",
              "      <td>44.0</td>\n",
              "      <td>72000.0</td>\n",
              "      <td>No</td>\n",
              "    </tr>\n",
              "    <tr>\n",
              "      <th>1</th>\n",
              "      <td>Spain</td>\n",
              "      <td>27.0</td>\n",
              "      <td>48000.0</td>\n",
              "      <td>Yes</td>\n",
              "    </tr>\n",
              "    <tr>\n",
              "      <th>2</th>\n",
              "      <td>Germany</td>\n",
              "      <td>30.0</td>\n",
              "      <td>54000.0</td>\n",
              "      <td>No</td>\n",
              "    </tr>\n",
              "    <tr>\n",
              "      <th>3</th>\n",
              "      <td>Spain</td>\n",
              "      <td>38.0</td>\n",
              "      <td>61000.0</td>\n",
              "      <td>No</td>\n",
              "    </tr>\n",
              "    <tr>\n",
              "      <th>4</th>\n",
              "      <td>Germany</td>\n",
              "      <td>40.0</td>\n",
              "      <td>61900.0</td>\n",
              "      <td>Yes</td>\n",
              "    </tr>\n",
              "    <tr>\n",
              "      <th>5</th>\n",
              "      <td>France</td>\n",
              "      <td>35.0</td>\n",
              "      <td>58000.0</td>\n",
              "      <td>Yes</td>\n",
              "    </tr>\n",
              "    <tr>\n",
              "      <th>6</th>\n",
              "      <td>Spain</td>\n",
              "      <td>38.3</td>\n",
              "      <td>52000.0</td>\n",
              "      <td>No</td>\n",
              "    </tr>\n",
              "    <tr>\n",
              "      <th>7</th>\n",
              "      <td>France</td>\n",
              "      <td>48.0</td>\n",
              "      <td>79000.0</td>\n",
              "      <td>Yes</td>\n",
              "    </tr>\n",
              "    <tr>\n",
              "      <th>8</th>\n",
              "      <td>Germany</td>\n",
              "      <td>50.0</td>\n",
              "      <td>83000.0</td>\n",
              "      <td>No</td>\n",
              "    </tr>\n",
              "    <tr>\n",
              "      <th>9</th>\n",
              "      <td>France</td>\n",
              "      <td>37.0</td>\n",
              "      <td>67000.0</td>\n",
              "      <td>Yes</td>\n",
              "    </tr>\n",
              "    <tr>\n",
              "      <th>10</th>\n",
              "      <td>France</td>\n",
              "      <td>34.0</td>\n",
              "      <td>45000.0</td>\n",
              "      <td>Yes</td>\n",
              "    </tr>\n",
              "  </tbody>\n",
              "</table>\n",
              "</div>"
            ],
            "text/plain": [
              "    Country   Age   Salary Purchased\n",
              "0    France  44.0  72000.0        No\n",
              "1     Spain  27.0  48000.0       Yes\n",
              "2   Germany  30.0  54000.0        No\n",
              "3     Spain  38.0  61000.0        No\n",
              "4   Germany  40.0  61900.0       Yes\n",
              "5    France  35.0  58000.0       Yes\n",
              "6     Spain  38.3  52000.0        No\n",
              "7    France  48.0  79000.0       Yes\n",
              "8   Germany  50.0  83000.0        No\n",
              "9    France  37.0  67000.0       Yes\n",
              "10   France  34.0  45000.0       Yes"
            ]
          },
          "metadata": {
            "tags": []
          },
          "execution_count": 24
        }
      ]
    },
    {
      "cell_type": "code",
      "metadata": {
        "id": "8oMSEIlcp6ki",
        "colab_type": "code",
        "colab": {}
      },
      "source": [
        "#Dummy Variables in Pandas\n",
        "#Handling Categorical Data\n",
        "dummyDF = pd.get_dummies(data.Country)\n"
      ],
      "execution_count": 0,
      "outputs": []
    },
    {
      "cell_type": "code",
      "metadata": {
        "id": "HCv7xhEOp6k0",
        "colab_type": "code",
        "colab": {}
      },
      "source": [
        "remainingDF = data.iloc[:,1:]"
      ],
      "execution_count": 0,
      "outputs": []
    },
    {
      "cell_type": "code",
      "metadata": {
        "id": "tTyER20Xp6lE",
        "colab_type": "code",
        "colab": {},
        "outputId": "a0c98bf5-7ac5-49bd-df96-3b8e7c5270b5"
      },
      "source": [
        "data2 = pd.concat([ dummyDF , remainingDF ] , axis = 1)\n",
        "data2"
      ],
      "execution_count": 0,
      "outputs": [
        {
          "output_type": "execute_result",
          "data": {
            "text/html": [
              "<div>\n",
              "<style scoped>\n",
              "    .dataframe tbody tr th:only-of-type {\n",
              "        vertical-align: middle;\n",
              "    }\n",
              "\n",
              "    .dataframe tbody tr th {\n",
              "        vertical-align: top;\n",
              "    }\n",
              "\n",
              "    .dataframe thead th {\n",
              "        text-align: right;\n",
              "    }\n",
              "</style>\n",
              "<table border=\"1\" class=\"dataframe\">\n",
              "  <thead>\n",
              "    <tr style=\"text-align: right;\">\n",
              "      <th></th>\n",
              "      <th>France</th>\n",
              "      <th>Germany</th>\n",
              "      <th>Spain</th>\n",
              "      <th>Age</th>\n",
              "      <th>Salary</th>\n",
              "      <th>Purchased</th>\n",
              "    </tr>\n",
              "  </thead>\n",
              "  <tbody>\n",
              "    <tr>\n",
              "      <th>0</th>\n",
              "      <td>1</td>\n",
              "      <td>0</td>\n",
              "      <td>0</td>\n",
              "      <td>44.0</td>\n",
              "      <td>72000.0</td>\n",
              "      <td>No</td>\n",
              "    </tr>\n",
              "    <tr>\n",
              "      <th>1</th>\n",
              "      <td>0</td>\n",
              "      <td>0</td>\n",
              "      <td>1</td>\n",
              "      <td>27.0</td>\n",
              "      <td>48000.0</td>\n",
              "      <td>Yes</td>\n",
              "    </tr>\n",
              "    <tr>\n",
              "      <th>2</th>\n",
              "      <td>0</td>\n",
              "      <td>1</td>\n",
              "      <td>0</td>\n",
              "      <td>30.0</td>\n",
              "      <td>54000.0</td>\n",
              "      <td>No</td>\n",
              "    </tr>\n",
              "    <tr>\n",
              "      <th>3</th>\n",
              "      <td>0</td>\n",
              "      <td>0</td>\n",
              "      <td>1</td>\n",
              "      <td>38.0</td>\n",
              "      <td>61000.0</td>\n",
              "      <td>No</td>\n",
              "    </tr>\n",
              "    <tr>\n",
              "      <th>4</th>\n",
              "      <td>0</td>\n",
              "      <td>1</td>\n",
              "      <td>0</td>\n",
              "      <td>40.0</td>\n",
              "      <td>61900.0</td>\n",
              "      <td>Yes</td>\n",
              "    </tr>\n",
              "    <tr>\n",
              "      <th>5</th>\n",
              "      <td>1</td>\n",
              "      <td>0</td>\n",
              "      <td>0</td>\n",
              "      <td>35.0</td>\n",
              "      <td>58000.0</td>\n",
              "      <td>Yes</td>\n",
              "    </tr>\n",
              "    <tr>\n",
              "      <th>6</th>\n",
              "      <td>0</td>\n",
              "      <td>0</td>\n",
              "      <td>1</td>\n",
              "      <td>38.3</td>\n",
              "      <td>52000.0</td>\n",
              "      <td>No</td>\n",
              "    </tr>\n",
              "    <tr>\n",
              "      <th>7</th>\n",
              "      <td>1</td>\n",
              "      <td>0</td>\n",
              "      <td>0</td>\n",
              "      <td>48.0</td>\n",
              "      <td>79000.0</td>\n",
              "      <td>Yes</td>\n",
              "    </tr>\n",
              "    <tr>\n",
              "      <th>8</th>\n",
              "      <td>0</td>\n",
              "      <td>1</td>\n",
              "      <td>0</td>\n",
              "      <td>50.0</td>\n",
              "      <td>83000.0</td>\n",
              "      <td>No</td>\n",
              "    </tr>\n",
              "    <tr>\n",
              "      <th>9</th>\n",
              "      <td>1</td>\n",
              "      <td>0</td>\n",
              "      <td>0</td>\n",
              "      <td>37.0</td>\n",
              "      <td>67000.0</td>\n",
              "      <td>Yes</td>\n",
              "    </tr>\n",
              "    <tr>\n",
              "      <th>10</th>\n",
              "      <td>1</td>\n",
              "      <td>0</td>\n",
              "      <td>0</td>\n",
              "      <td>34.0</td>\n",
              "      <td>45000.0</td>\n",
              "      <td>Yes</td>\n",
              "    </tr>\n",
              "  </tbody>\n",
              "</table>\n",
              "</div>"
            ],
            "text/plain": [
              "    France  Germany  Spain   Age   Salary Purchased\n",
              "0        1        0      0  44.0  72000.0        No\n",
              "1        0        0      1  27.0  48000.0       Yes\n",
              "2        0        1      0  30.0  54000.0        No\n",
              "3        0        0      1  38.0  61000.0        No\n",
              "4        0        1      0  40.0  61900.0       Yes\n",
              "5        1        0      0  35.0  58000.0       Yes\n",
              "6        0        0      1  38.3  52000.0        No\n",
              "7        1        0      0  48.0  79000.0       Yes\n",
              "8        0        1      0  50.0  83000.0        No\n",
              "9        1        0      0  37.0  67000.0       Yes\n",
              "10       1        0      0  34.0  45000.0       Yes"
            ]
          },
          "metadata": {
            "tags": []
          },
          "execution_count": 38
        }
      ]
    },
    {
      "cell_type": "code",
      "metadata": {
        "id": "JUFt_RIkp6lg",
        "colab_type": "code",
        "colab": {}
      },
      "source": [
        "#Seperate your data as features and label\n",
        "#Ensure the data is in numpy array\n",
        "features = data2.iloc[:, :-1].values\n",
        "label = data2.Purchased.values"
      ],
      "execution_count": 0,
      "outputs": []
    },
    {
      "cell_type": "code",
      "metadata": {
        "id": "vHw_mhTfp6l0",
        "colab_type": "code",
        "colab": {},
        "outputId": "c235788a-e5ed-4464-dce6-331d72ae6f14"
      },
      "source": [
        "features"
      ],
      "execution_count": 0,
      "outputs": [
        {
          "output_type": "execute_result",
          "data": {
            "text/plain": [
              "array([[1.00e+00, 0.00e+00, 0.00e+00, 4.40e+01, 7.20e+04],\n",
              "       [0.00e+00, 0.00e+00, 1.00e+00, 2.70e+01, 4.80e+04],\n",
              "       [0.00e+00, 1.00e+00, 0.00e+00, 3.00e+01, 5.40e+04],\n",
              "       [0.00e+00, 0.00e+00, 1.00e+00, 3.80e+01, 6.10e+04],\n",
              "       [0.00e+00, 1.00e+00, 0.00e+00, 4.00e+01, 6.19e+04],\n",
              "       [1.00e+00, 0.00e+00, 0.00e+00, 3.50e+01, 5.80e+04],\n",
              "       [0.00e+00, 0.00e+00, 1.00e+00, 3.83e+01, 5.20e+04],\n",
              "       [1.00e+00, 0.00e+00, 0.00e+00, 4.80e+01, 7.90e+04],\n",
              "       [0.00e+00, 1.00e+00, 0.00e+00, 5.00e+01, 8.30e+04],\n",
              "       [1.00e+00, 0.00e+00, 0.00e+00, 3.70e+01, 6.70e+04],\n",
              "       [1.00e+00, 0.00e+00, 0.00e+00, 3.40e+01, 4.50e+04]])"
            ]
          },
          "metadata": {
            "tags": []
          },
          "execution_count": 41
        }
      ]
    },
    {
      "cell_type": "code",
      "metadata": {
        "id": "UbuLAxzFp6mG",
        "colab_type": "code",
        "colab": {},
        "outputId": "c8bd34a0-ae66-4f80-ce7e-f445b45261ee"
      },
      "source": [
        "label"
      ],
      "execution_count": 0,
      "outputs": [
        {
          "output_type": "execute_result",
          "data": {
            "text/plain": [
              "array(['No', 'Yes', 'No', 'No', 'Yes', 'Yes', 'No', 'Yes', 'No', 'Yes',\n",
              "       'Yes'], dtype=object)"
            ]
          },
          "metadata": {
            "tags": []
          },
          "execution_count": 42
        }
      ]
    },
    {
      "cell_type": "code",
      "metadata": {
        "id": "_ZcChjIOp6mW",
        "colab_type": "code",
        "colab": {}
      },
      "source": [
        "#If you are using sklearn for model creation,\n",
        "# Your label can be numeric or categorical(string also)\n",
        "#If you are working on Neural Networks (Deep Learning), Then handling label is compulsory\n",
        "#Your label is number."
      ],
      "execution_count": 0,
      "outputs": []
    },
    {
      "cell_type": "code",
      "metadata": {
        "id": "vW8PgbPRp6md",
        "colab_type": "code",
        "colab": {},
        "outputId": "86b1780d-245f-41c6-8413-616e4c0e66ad"
      },
      "source": [
        "#Feature Scaling\n",
        "from sklearn.preprocessing import StandardScaler\n",
        "scale = StandardScaler()\n",
        "features = scale.fit_transform(features)\n",
        "features"
      ],
      "execution_count": 0,
      "outputs": [
        {
          "output_type": "execute_result",
          "data": {
            "text/plain": [
              "array([[ 1.09544512e+00, -6.12372436e-01, -6.12372436e-01,\n",
              "         8.50479346e-01,  8.58949016e-01],\n",
              "       [-9.12870929e-01, -6.12372436e-01,  1.63299316e+00,\n",
              "        -1.68603800e+00, -1.18211795e+00],\n",
              "       [-9.12870929e-01,  1.63299316e+00, -6.12372436e-01,\n",
              "        -1.23841729e+00, -6.71851210e-01],\n",
              "       [-9.12870929e-01, -6.12372436e-01,  1.63299316e+00,\n",
              "        -4.47620709e-02, -7.65400113e-02],\n",
              "       [-9.12870929e-01,  1.63299316e+00, -6.12372436e-01,\n",
              "         2.53651735e-01,  0.00000000e+00],\n",
              "       [ 1.09544512e+00, -6.12372436e-01, -6.12372436e-01,\n",
              "        -4.92382779e-01, -3.31673382e-01],\n",
              "       [-9.12870929e-01, -6.12372436e-01,  1.63299316e+00,\n",
              "        -1.06017881e-15, -8.41940124e-01],\n",
              "       [ 1.09544512e+00, -6.12372436e-01, -6.12372436e-01,\n",
              "         1.44730696e+00,  1.45426021e+00],\n",
              "       [-9.12870929e-01,  1.63299316e+00, -6.12372436e-01,\n",
              "         1.74572076e+00,  1.79443804e+00],\n",
              "       [ 1.09544512e+00, -6.12372436e-01, -6.12372436e-01,\n",
              "        -1.93968974e-01,  4.33726731e-01],\n",
              "       [ 1.09544512e+00, -6.12372436e-01, -6.12372436e-01,\n",
              "        -6.41589682e-01, -1.43725132e+00]])"
            ]
          },
          "metadata": {
            "tags": []
          },
          "execution_count": 45
        }
      ]
    },
    {
      "cell_type": "code",
      "metadata": {
        "id": "D1dKZ7RLp6mq",
        "colab_type": "code",
        "colab": {},
        "outputId": "85a3498b-aa3a-47a4-a170-d46bb7b0b552"
      },
      "source": [
        "features"
      ],
      "execution_count": 0,
      "outputs": [
        {
          "output_type": "execute_result",
          "data": {
            "text/plain": [
              "array([[1.00e+00, 0.00e+00, 0.00e+00, 4.40e+01, 7.20e+04],\n",
              "       [0.00e+00, 0.00e+00, 1.00e+00, 2.70e+01, 4.80e+04],\n",
              "       [0.00e+00, 1.00e+00, 0.00e+00, 3.00e+01, 5.40e+04],\n",
              "       [0.00e+00, 0.00e+00, 1.00e+00, 3.80e+01, 6.10e+04],\n",
              "       [0.00e+00, 1.00e+00, 0.00e+00, 4.00e+01, 6.19e+04],\n",
              "       [1.00e+00, 0.00e+00, 0.00e+00, 3.50e+01, 5.80e+04],\n",
              "       [0.00e+00, 0.00e+00, 1.00e+00, 3.83e+01, 5.20e+04],\n",
              "       [1.00e+00, 0.00e+00, 0.00e+00, 4.80e+01, 7.90e+04],\n",
              "       [0.00e+00, 1.00e+00, 0.00e+00, 5.00e+01, 8.30e+04],\n",
              "       [1.00e+00, 0.00e+00, 0.00e+00, 3.70e+01, 6.70e+04],\n",
              "       [1.00e+00, 0.00e+00, 0.00e+00, 3.40e+01, 4.50e+04]])"
            ]
          },
          "metadata": {
            "tags": []
          },
          "execution_count": 44
        }
      ]
    },
    {
      "cell_type": "code",
      "metadata": {
        "id": "A8Giwcpdp6m0",
        "colab_type": "code",
        "colab": {}
      },
      "source": [
        "from sklearn.preprocessing import MinMaxScaler\n",
        "scale2 = MinMaxScaler(feature_range=(0,1))\n",
        "features = scale2.fit_transform(features)"
      ],
      "execution_count": 0,
      "outputs": []
    },
    {
      "cell_type": "code",
      "metadata": {
        "id": "sJa0viWbp6m9",
        "colab_type": "code",
        "colab": {}
      },
      "source": [
        "?MinMaxScaler"
      ],
      "execution_count": 0,
      "outputs": []
    },
    {
      "cell_type": "code",
      "metadata": {
        "id": "F8KriCOyp6nM",
        "colab_type": "code",
        "colab": {}
      },
      "source": [
        ""
      ],
      "execution_count": 0,
      "outputs": []
    }
  ]
}