{
  "nbformat": 4,
  "nbformat_minor": 0,
  "metadata": {
    "colab": {
      "name": "Functions.ipynb",
      "version": "0.3.2",
      "provenance": []
    },
    "language_info": {
      "codemirror_mode": {
        "name": "ipython",
        "version": 3
      },
      "file_extension": ".py",
      "mimetype": "text/x-python",
      "name": "python",
      "nbconvert_exporter": "python",
      "pygments_lexer": "ipython3",
      "version": "3.6.8"
    },
    "kernelspec": {
      "display_name": "Python 3",
      "language": "python",
      "name": "python3"
    }
  },
  "cells": [
    {
      "cell_type": "code",
      "metadata": {
        "id": "HCfG5kxFf_fU",
        "colab_type": "code",
        "colab": {}
      },
      "source": [
        "#Functions are reusable code\n",
        "#There exists two type of function\n",
        "# 1. Pre-defined functions (In-built functions): str(),int(),float(),range(),append()\n",
        "# 2. User-defined functions\n"
      ],
      "execution_count": 0,
      "outputs": []
    },
    {
      "cell_type": "code",
      "metadata": {
        "id": "_xYmU-bZf_fa",
        "colab_type": "code",
        "colab": {}
      },
      "source": [
        "'''\n",
        "def functionname(parameter):\n",
        "    body\n",
        "    \n",
        "A function must perform one of the following:\n",
        "1. Perform a task\n",
        "2. Return a value\n",
        "\n",
        "'''\n",
        "def greetName(name):\n",
        "    print(\"Welcome {}\".format(name))"
      ],
      "execution_count": 0,
      "outputs": []
    },
    {
      "cell_type": "code",
      "metadata": {
        "id": "-MjwZTE8f_ff",
        "colab_type": "code",
        "colab": {},
        "outputId": "92b16dc3-4561-4bd7-c20f-fbe9d7f0d5de"
      },
      "source": [
        "greetName('Prashant')"
      ],
      "execution_count": 0,
      "outputs": [
        {
          "output_type": "stream",
          "text": [
            "Welcome Prashant\n"
          ],
          "name": "stdout"
        }
      ]
    },
    {
      "cell_type": "code",
      "metadata": {
        "id": "5PyXbWrlf_fn",
        "colab_type": "code",
        "colab": {}
      },
      "source": [
        "def addOne(num):\n",
        "    return num+1"
      ],
      "execution_count": 0,
      "outputs": []
    },
    {
      "cell_type": "code",
      "metadata": {
        "id": "GV4P6CdFf_fq",
        "colab_type": "code",
        "colab": {}
      },
      "source": [
        "var1 = addOne(9)"
      ],
      "execution_count": 0,
      "outputs": []
    },
    {
      "cell_type": "code",
      "metadata": {
        "id": "LNLn7b6Qf_fu",
        "colab_type": "code",
        "colab": {},
        "outputId": "cc035464-4d2e-4773-d097-0b79cd6da709"
      },
      "source": [
        "var1"
      ],
      "execution_count": 0,
      "outputs": [
        {
          "output_type": "execute_result",
          "data": {
            "text/plain": [
              "10"
            ]
          },
          "metadata": {
            "tags": []
          },
          "execution_count": 9
        }
      ]
    },
    {
      "cell_type": "code",
      "metadata": {
        "id": "2TY5DVl6f_fz",
        "colab_type": "code",
        "colab": {},
        "outputId": "c512fb7d-b062-4c1c-92a0-6cc1c7d61769"
      },
      "source": [
        "var2 = greetName('prashant')"
      ],
      "execution_count": 0,
      "outputs": [
        {
          "output_type": "stream",
          "text": [
            "Welcome prashant\n"
          ],
          "name": "stdout"
        }
      ]
    },
    {
      "cell_type": "code",
      "metadata": {
        "id": "bJ56wYYhf_f6",
        "colab_type": "code",
        "colab": {}
      },
      "source": [
        "var2"
      ],
      "execution_count": 0,
      "outputs": []
    },
    {
      "cell_type": "code",
      "metadata": {
        "id": "sSUipfAzf_f9",
        "colab_type": "code",
        "colab": {},
        "outputId": "ac73e6ce-b0d9-412a-e585-baeaff74e9e4"
      },
      "source": [
        "list1 = [1,2,3,5]\n",
        "output = []\n",
        "for num in list1:\n",
        "    output.append(addOne(num))\n",
        "    \n",
        "print(output)"
      ],
      "execution_count": 0,
      "outputs": [
        {
          "output_type": "stream",
          "text": [
            "[2, 3, 4, 6]\n"
          ],
          "name": "stdout"
        }
      ]
    },
    {
      "cell_type": "code",
      "metadata": {
        "id": "z88WPBagf_gD",
        "colab_type": "code",
        "colab": {}
      },
      "source": [
        ""
      ],
      "execution_count": 0,
      "outputs": []
    }
  ]
}