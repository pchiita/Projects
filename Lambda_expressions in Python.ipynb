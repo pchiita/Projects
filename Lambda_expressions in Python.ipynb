{
  "nbformat": 4,
  "nbformat_minor": 0,
  "metadata": {
    "colab": {
      "name": "Lambda expressions.ipynb",
      "version": "0.3.2",
      "provenance": []
    },
    "language_info": {
      "codemirror_mode": {
        "name": "ipython",
        "version": 3
      },
      "file_extension": ".py",
      "mimetype": "text/x-python",
      "name": "python",
      "nbconvert_exporter": "python",
      "pygments_lexer": "ipython3",
      "version": "3.6.8"
    },
    "kernelspec": {
      "display_name": "Python 3",
      "language": "python",
      "name": "python3"
    }
  },
  "cells": [
    {
      "cell_type": "code",
      "metadata": {
        "id": "lNC8qAa9gvTl",
        "colab_type": "code",
        "colab": {}
      },
      "source": [
        "def addOne(num):\n",
        "    return num+1"
      ],
      "execution_count": 0,
      "outputs": []
    },
    {
      "cell_type": "code",
      "metadata": {
        "id": "l2m2D837gvTq",
        "colab_type": "code",
        "colab": {}
      },
      "source": [
        "resultFunction = lambda num : num + 1"
      ],
      "execution_count": 0,
      "outputs": []
    },
    {
      "cell_type": "code",
      "metadata": {
        "id": "BlJBw028gvTu",
        "colab_type": "code",
        "colab": {},
        "outputId": "409e794f-e504-4be3-aefb-bb8137f23137"
      },
      "source": [
        "type(resultFunction)"
      ],
      "execution_count": 0,
      "outputs": [
        {
          "output_type": "execute_result",
          "data": {
            "text/plain": [
              "function"
            ]
          },
          "metadata": {
            "tags": []
          },
          "execution_count": 3
        }
      ]
    },
    {
      "cell_type": "code",
      "metadata": {
        "id": "k2cOR8jXgvT2",
        "colab_type": "code",
        "colab": {},
        "outputId": "d25a7adc-3cad-4bdc-fc7d-d1bfe32656ab"
      },
      "source": [
        "resultFunction(3)"
      ],
      "execution_count": 0,
      "outputs": [
        {
          "output_type": "execute_result",
          "data": {
            "text/plain": [
              "4"
            ]
          },
          "metadata": {
            "tags": []
          },
          "execution_count": 4
        }
      ]
    }
  ]
}