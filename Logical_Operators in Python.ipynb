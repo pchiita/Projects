{
  "nbformat": 4,
  "nbformat_minor": 0,
  "metadata": {
    "colab": {
      "name": "Logical Operators.ipynb",
      "version": "0.3.2",
      "provenance": []
    },
    "language_info": {
      "codemirror_mode": {
        "name": "ipython",
        "version": 3
      },
      "file_extension": ".py",
      "mimetype": "text/x-python",
      "name": "python",
      "nbconvert_exporter": "python",
      "pygments_lexer": "ipython3",
      "version": "3.6.8"
    },
    "kernelspec": {
      "display_name": "Python 3",
      "language": "python",
      "name": "python3"
    }
  },
  "cells": [
    {
      "cell_type": "code",
      "metadata": {
        "id": "qmZslgd3iLSw",
        "colab_type": "code",
        "colab": {}
      },
      "source": [
        "#Logical Operators in Python\n",
        "# And\n",
        "# or\n",
        "# not"
      ],
      "execution_count": 0,
      "outputs": []
    },
    {
      "cell_type": "code",
      "metadata": {
        "id": "I7sesIqriLS1",
        "colab_type": "code",
        "colab": {},
        "outputId": "78cfee95-cbb2-47af-cc52-17dc9dac857c"
      },
      "source": [
        "# Loan Eligibility -- example of and operator\n",
        "income = 9000\n",
        "credit = 500\n",
        "\n",
        "if income > 8000 and credit > 700:\n",
        "    print('Eligible for Loan')\n",
        "else:\n",
        "    print('Not Eligible')"
      ],
      "execution_count": 0,
      "outputs": [
        {
          "output_type": "stream",
          "text": [
            "Not Eligible\n"
          ],
          "name": "stdout"
        }
      ]
    },
    {
      "cell_type": "code",
      "metadata": {
        "id": "M97L_-QKiLS9",
        "colab_type": "code",
        "colab": {},
        "outputId": "65fc9285-ceb6-4d4a-fcd9-2de5ba74eba2"
      },
      "source": [
        "# Loan Eligibility --- example of or operator\n",
        "income = 9000\n",
        "credit = 500\n",
        "\n",
        "if income > 8000 or credit > 700:\n",
        "    print('Eligible for Loan')\n",
        "else:\n",
        "    print('Not Eligible')"
      ],
      "execution_count": 0,
      "outputs": [
        {
          "output_type": "stream",
          "text": [
            "Eligible for Loan\n"
          ],
          "name": "stdout"
        }
      ]
    },
    {
      "cell_type": "code",
      "metadata": {
        "id": "a6QsZBWhiLTC",
        "colab_type": "code",
        "colab": {},
        "outputId": "105d700b-38c2-47ee-f4d9-63f7ade21894"
      },
      "source": [
        "# Loan Eligibility -- Example of Not operator\n",
        "income = 9000\n",
        "credit = 500\n",
        "student = True\n",
        "\n",
        "if not student:\n",
        "    if income > 8000 and credit > 700:\n",
        "        print('Eligible for Loan')\n",
        "    else:\n",
        "        print('Not Eligible')\n",
        "else:\n",
        "    print(\"Students can't apply for loan\")"
      ],
      "execution_count": 0,
      "outputs": [
        {
          "output_type": "stream",
          "text": [
            "Students can't apply for loan\n"
          ],
          "name": "stdout"
        }
      ]
    },
    {
      "cell_type": "code",
      "metadata": {
        "id": "V1ve5VVLiLTH",
        "colab_type": "code",
        "colab": {},
        "outputId": "7c11e008-ea8e-47ca-8a14-f0a19fd15718"
      },
      "source": [
        "# Loan Eligibility -- Example of Not operator\n",
        "income = 9000\n",
        "credit = 500\n",
        "student = True\n",
        "\n",
        "if income > 8000 and credit > 700 and not student:\n",
        "    print('Eligible')\n",
        "else:\n",
        "    print('Not Eligible')"
      ],
      "execution_count": 0,
      "outputs": [
        {
          "output_type": "stream",
          "text": [
            "Not Eligible\n"
          ],
          "name": "stdout"
        }
      ]
    },
    {
      "cell_type": "code",
      "metadata": {
        "id": "TjO5a0RpiLTM",
        "colab_type": "code",
        "colab": {},
        "outputId": "1afe48a2-e6c9-4ee7-db52-54e7dc4a6269"
      },
      "source": [
        "#Chaining comparison operators\n",
        "# IAS exam critera check\n",
        "\n",
        "age = 45\n",
        "if age >= 18 and age <= 32:\n",
        "    print('Eligible for Exam')\n",
        "else:\n",
        "    print('Not Eligible for Exam')"
      ],
      "execution_count": 0,
      "outputs": [
        {
          "output_type": "stream",
          "text": [
            "Not Eligible for Exam\n"
          ],
          "name": "stdout"
        }
      ]
    },
    {
      "cell_type": "code",
      "metadata": {
        "id": "W1YVeU4BiLTR",
        "colab_type": "code",
        "colab": {},
        "outputId": "8cf28f13-a360-4a0c-cab0-63ec1381db45"
      },
      "source": [
        "#Rewrite code as per chaining\n",
        "age = 45\n",
        "\n",
        "if 18 <= age <= 32:\n",
        "    print('Eligible for Exam')\n",
        "else:\n",
        "    print('Not Eligible for Exam')"
      ],
      "execution_count": 0,
      "outputs": [
        {
          "output_type": "stream",
          "text": [
            "Not Eligible for Exam\n"
          ],
          "name": "stdout"
        }
      ]
    },
    {
      "cell_type": "code",
      "metadata": {
        "id": "jOQWcz2ciLTX",
        "colab_type": "code",
        "colab": {}
      },
      "source": [
        ""
      ],
      "execution_count": 0,
      "outputs": []
    }
  ]
}