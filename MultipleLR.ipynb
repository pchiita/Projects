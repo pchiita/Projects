{
  "nbformat": 4,
  "nbformat_minor": 0,
  "metadata": {
    "colab": {
      "name": "MultipleLR.ipynb",
      "version": "0.3.2",
      "provenance": []
    },
    "language_info": {
      "codemirror_mode": {
        "name": "ipython",
        "version": 3
      },
      "file_extension": ".py",
      "mimetype": "text/x-python",
      "name": "python",
      "nbconvert_exporter": "python",
      "pygments_lexer": "ipython3",
      "version": "3.7.3"
    },
    "kernelspec": {
      "display_name": "Python 3",
      "language": "python",
      "name": "python3"
    }
  },
  "cells": [
    {
      "cell_type": "markdown",
      "metadata": {
        "id": "P3Z-c791qc77",
        "colab_type": "text"
      },
      "source": [
        "### A venture capitalist company has hired you as a ML engineer to create model that can predict the profit of a startup company based on company's spending pattern and its location"
      ]
    },
    {
      "cell_type": "code",
      "metadata": {
        "id": "TC8uM7nXqc7-",
        "colab_type": "code",
        "colab": {}
      },
      "source": [
        "import numpy as np\n",
        "import pandas as pd\n",
        "import matplotlib.pyplot as plt\n",
        "%matplotlib inline"
      ],
      "execution_count": 0,
      "outputs": []
    },
    {
      "cell_type": "code",
      "metadata": {
        "id": "FBsMSnnmqc8J",
        "colab_type": "code",
        "colab": {}
      },
      "source": [
        "data = pd.read_csv('50_Startups.csv')"
      ],
      "execution_count": 0,
      "outputs": []
    },
    {
      "cell_type": "code",
      "metadata": {
        "id": "_dYupX72qc8Q",
        "colab_type": "code",
        "colab": {}
      },
      "source": [
        "#Seperate your data as features and label\n",
        "features = data.iloc[:,[0,1,2]].values\n",
        "label = data.iloc[:,[4]].values"
      ],
      "execution_count": 0,
      "outputs": []
    },
    {
      "cell_type": "code",
      "metadata": {
        "id": "8IrLMRzmqc8Z",
        "colab_type": "code",
        "colab": {}
      },
      "source": [
        "#Create Training and Testing sets\n",
        "# Training set will be used to train our model (Learning)\n",
        "# Testing set will be used to test our model for accuracy/generalization (Testing)\n",
        "from sklearn.model_selection import train_test_split\n",
        "X_train,X_test,y_train,y_test = train_test_split(features,\n",
        "                                                label,\n",
        "                                                test_size=0.2,\n",
        "                                                random_state=10)"
      ],
      "execution_count": 0,
      "outputs": []
    },
    {
      "cell_type": "code",
      "metadata": {
        "id": "kV0L2twmqc8g",
        "colab_type": "code",
        "colab": {},
        "outputId": "6fecdb74-46a1-499a-8256-cb9d08d63d53"
      },
      "source": [
        "#Create our model\n",
        "from sklearn.linear_model import LinearRegression\n",
        "lr = LinearRegression()\n",
        "lr.fit(X_train,y_train)"
      ],
      "execution_count": 0,
      "outputs": [
        {
          "output_type": "execute_result",
          "data": {
            "text/plain": [
              "LinearRegression(copy_X=True, fit_intercept=True, n_jobs=None,\n",
              "         normalize=False)"
            ]
          },
          "metadata": {
            "tags": []
          },
          "execution_count": 8
        }
      ]
    },
    {
      "cell_type": "code",
      "metadata": {
        "id": "dugLA43Gqc8u",
        "colab_type": "code",
        "colab": {},
        "outputId": "61a11b5c-7f90-45a8-88ab-53d4db21580d"
      },
      "source": [
        "#Check the generalization\n",
        "print(lr.score(X_train,y_train)) #Known data\n",
        "print(lr.score(X_test,y_test)) #Unknown data"
      ],
      "execution_count": 0,
      "outputs": [
        {
          "output_type": "stream",
          "text": [
            "0.9383444814482027\n",
            "0.991745901723568\n"
          ],
          "name": "stdout"
        }
      ]
    },
    {
      "cell_type": "code",
      "metadata": {
        "id": "mUTwaO8vqc85",
        "colab_type": "code",
        "colab": {}
      },
      "source": [
        ""
      ],
      "execution_count": 0,
      "outputs": []
    }
  ]
}