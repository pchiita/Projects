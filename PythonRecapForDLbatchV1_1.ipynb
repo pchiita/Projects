{
  "nbformat": 4,
  "nbformat_minor": 0,
  "metadata": {
    "colab": {
      "name": "PythonRecapForDLbatchV1.1.ipynb",
      "version": "0.3.2",
      "provenance": []
    },
    "language_info": {
      "codemirror_mode": {
        "name": "ipython",
        "version": 3
      },
      "file_extension": ".py",
      "mimetype": "text/x-python",
      "name": "python",
      "nbconvert_exporter": "python",
      "pygments_lexer": "ipython3",
      "version": "3.6.4"
    },
    "kernelspec": {
      "display_name": "Python 3",
      "language": "python",
      "name": "python3"
    }
  },
  "cells": [
    {
      "cell_type": "code",
      "metadata": {
        "id": "MSOOAQ9wJR9B",
        "colab_type": "code",
        "colab": {},
        "outputId": "cbbdd6a8-2ee8-4747-a151-ef2629ec4e3c"
      },
      "source": [
        "print(\"Hello AI\")"
      ],
      "execution_count": 0,
      "outputs": [
        {
          "output_type": "stream",
          "text": [
            "Hello AI\n"
          ],
          "name": "stdout"
        }
      ]
    },
    {
      "cell_type": "code",
      "metadata": {
        "id": "vvIIFQK_JR9Y",
        "colab_type": "code",
        "colab": {}
      },
      "source": [
        "#python has dynamic typing"
      ],
      "execution_count": 0,
      "outputs": []
    },
    {
      "cell_type": "code",
      "metadata": {
        "id": "pfhCnI0fJR9i",
        "colab_type": "code",
        "colab": {}
      },
      "source": [
        "x = 0"
      ],
      "execution_count": 0,
      "outputs": []
    },
    {
      "cell_type": "code",
      "metadata": {
        "id": "zg83OcWuJR9u",
        "colab_type": "code",
        "colab": {},
        "outputId": "65c6b370-3845-45af-ec33-c97db6e05ee5"
      },
      "source": [
        "type(x)"
      ],
      "execution_count": 0,
      "outputs": [
        {
          "output_type": "execute_result",
          "data": {
            "text/plain": [
              "int"
            ]
          },
          "metadata": {
            "tags": []
          },
          "execution_count": 4
        }
      ]
    },
    {
      "cell_type": "code",
      "metadata": {
        "id": "Sta1IRqzJR96",
        "colab_type": "code",
        "colab": {}
      },
      "source": [
        "x = 11.2"
      ],
      "execution_count": 0,
      "outputs": []
    },
    {
      "cell_type": "code",
      "metadata": {
        "id": "VXQOJKFRJR-C",
        "colab_type": "code",
        "colab": {},
        "outputId": "4bd8ae9d-8191-4b25-885e-62d5c4ccffc6"
      },
      "source": [
        "type(x)"
      ],
      "execution_count": 0,
      "outputs": [
        {
          "output_type": "execute_result",
          "data": {
            "text/plain": [
              "float"
            ]
          },
          "metadata": {
            "tags": []
          },
          "execution_count": 6
        }
      ]
    },
    {
      "cell_type": "code",
      "metadata": {
        "id": "SZZUPy9vJR-O",
        "colab_type": "code",
        "colab": {}
      },
      "source": [
        "x = 'string'"
      ],
      "execution_count": 0,
      "outputs": []
    },
    {
      "cell_type": "code",
      "metadata": {
        "id": "l0tFfa9qJR-Z",
        "colab_type": "code",
        "colab": {},
        "outputId": "18de5df6-f21f-41cf-e347-3982b91104fb"
      },
      "source": [
        "type(x)"
      ],
      "execution_count": 0,
      "outputs": [
        {
          "output_type": "execute_result",
          "data": {
            "text/plain": [
              "str"
            ]
          },
          "metadata": {
            "tags": []
          },
          "execution_count": 8
        }
      ]
    },
    {
      "cell_type": "code",
      "metadata": {
        "id": "aXNlvJTtJR-l",
        "colab_type": "code",
        "colab": {}
      },
      "source": [
        "myList = [1,2,3,4,5]"
      ],
      "execution_count": 0,
      "outputs": []
    },
    {
      "cell_type": "code",
      "metadata": {
        "scrolled": true,
        "id": "WEnoj8V0JR-x",
        "colab_type": "code",
        "colab": {},
        "outputId": "fe0d8244-d427-4cb4-cd6d-5c8ac609f04d"
      },
      "source": [
        "myList"
      ],
      "execution_count": 0,
      "outputs": [
        {
          "output_type": "execute_result",
          "data": {
            "text/plain": [
              "[1, 2, 3, 4, 5]"
            ]
          },
          "metadata": {
            "tags": []
          },
          "execution_count": 10
        }
      ]
    },
    {
      "cell_type": "code",
      "metadata": {
        "scrolled": true,
        "id": "XNHCU7pdJR-8",
        "colab_type": "code",
        "colab": {},
        "outputId": "91d60401-7e4e-419b-d546-1a95dc0c913b"
      },
      "source": [
        "len(myList)"
      ],
      "execution_count": 0,
      "outputs": [
        {
          "output_type": "execute_result",
          "data": {
            "text/plain": [
              "5"
            ]
          },
          "metadata": {
            "tags": []
          },
          "execution_count": 11
        }
      ]
    },
    {
      "cell_type": "code",
      "metadata": {
        "id": "KwDWlDYLJR_I",
        "colab_type": "code",
        "colab": {},
        "outputId": "5568f779-4156-47cd-f581-adf37361fcfa"
      },
      "source": [
        "myList[0]"
      ],
      "execution_count": 0,
      "outputs": [
        {
          "output_type": "execute_result",
          "data": {
            "text/plain": [
              "1"
            ]
          },
          "metadata": {
            "tags": []
          },
          "execution_count": 12
        }
      ]
    },
    {
      "cell_type": "code",
      "metadata": {
        "scrolled": true,
        "id": "1e_mSAIHJR_R",
        "colab_type": "code",
        "colab": {},
        "outputId": "16c51126-d7a8-412a-e9d0-545cfa0a460d"
      },
      "source": [
        "myList[4]"
      ],
      "execution_count": 0,
      "outputs": [
        {
          "output_type": "execute_result",
          "data": {
            "text/plain": [
              "5"
            ]
          },
          "metadata": {
            "tags": []
          },
          "execution_count": 13
        }
      ]
    },
    {
      "cell_type": "code",
      "metadata": {
        "id": "YxTKcVT4JR_b",
        "colab_type": "code",
        "colab": {},
        "outputId": "7a4af89b-d833-48eb-d888-f087208f53d9"
      },
      "source": [
        "myList[-1]"
      ],
      "execution_count": 0,
      "outputs": [
        {
          "output_type": "execute_result",
          "data": {
            "text/plain": [
              "5"
            ]
          },
          "metadata": {
            "tags": []
          },
          "execution_count": 14
        }
      ]
    },
    {
      "cell_type": "code",
      "metadata": {
        "id": "oSpPlQGmJR_q",
        "colab_type": "code",
        "colab": {},
        "outputId": "c07a930a-bff5-43f0-b246-8d1a5e250bc6"
      },
      "source": [
        "myList[-5:-1]"
      ],
      "execution_count": 0,
      "outputs": [
        {
          "output_type": "execute_result",
          "data": {
            "text/plain": [
              "[1, 2, 3, 4]"
            ]
          },
          "metadata": {
            "tags": []
          },
          "execution_count": 15
        }
      ]
    },
    {
      "cell_type": "code",
      "metadata": {
        "id": "pa6tQhevJR_2",
        "colab_type": "code",
        "colab": {},
        "outputId": "0590c71b-5d30-4d9e-d65d-03b981a06527"
      },
      "source": [
        "myList[-4:2]"
      ],
      "execution_count": 0,
      "outputs": [
        {
          "output_type": "execute_result",
          "data": {
            "text/plain": [
              "[2]"
            ]
          },
          "metadata": {
            "tags": []
          },
          "execution_count": 16
        }
      ]
    },
    {
      "cell_type": "code",
      "metadata": {
        "id": "N4vAWSfhJSAA",
        "colab_type": "code",
        "colab": {},
        "outputId": "d2798211-31c5-445e-dbed-84fe30261015"
      },
      "source": [
        "myList[-10:4]"
      ],
      "execution_count": 0,
      "outputs": [
        {
          "output_type": "execute_result",
          "data": {
            "text/plain": [
              "[1, 2, 3, 4]"
            ]
          },
          "metadata": {
            "tags": []
          },
          "execution_count": 17
        }
      ]
    },
    {
      "cell_type": "code",
      "metadata": {
        "id": "b5XF9UBBJSAN",
        "colab_type": "code",
        "colab": {}
      },
      "source": [
        "#we just understood indexing and slicing"
      ],
      "execution_count": 0,
      "outputs": []
    },
    {
      "cell_type": "code",
      "metadata": {
        "id": "zvAceCq_JSAZ",
        "colab_type": "code",
        "colab": {}
      },
      "source": [
        "copyList = myList"
      ],
      "execution_count": 0,
      "outputs": []
    },
    {
      "cell_type": "code",
      "metadata": {
        "id": "nvwRw2DEJSAn",
        "colab_type": "code",
        "colab": {},
        "outputId": "bda7b805-f6f0-435f-c1e4-ca1cc93623ef"
      },
      "source": [
        "copyList"
      ],
      "execution_count": 0,
      "outputs": [
        {
          "output_type": "execute_result",
          "data": {
            "text/plain": [
              "[1, 2, 3, 4, 5]"
            ]
          },
          "metadata": {
            "tags": []
          },
          "execution_count": 20
        }
      ]
    },
    {
      "cell_type": "code",
      "metadata": {
        "id": "C-1EgI2-JSAv",
        "colab_type": "code",
        "colab": {},
        "outputId": "d0bf50a3-009b-4d9f-aaa7-5c00c714449d"
      },
      "source": [
        "myList + copyList"
      ],
      "execution_count": 0,
      "outputs": [
        {
          "output_type": "execute_result",
          "data": {
            "text/plain": [
              "[1, 2, 3, 4, 5, 1, 2, 3, 4, 5]"
            ]
          },
          "metadata": {
            "tags": []
          },
          "execution_count": 21
        }
      ]
    },
    {
      "cell_type": "code",
      "metadata": {
        "id": "VWI262ixJSA3",
        "colab_type": "code",
        "colab": {},
        "outputId": "211b6a7a-9a55-44d4-ac7e-b7388ce2db9f"
      },
      "source": [
        "myList*3"
      ],
      "execution_count": 0,
      "outputs": [
        {
          "output_type": "execute_result",
          "data": {
            "text/plain": [
              "[1, 2, 3, 4, 5, 1, 2, 3, 4, 5, 1, 2, 3, 4, 5]"
            ]
          },
          "metadata": {
            "tags": []
          },
          "execution_count": 22
        }
      ]
    },
    {
      "cell_type": "code",
      "metadata": {
        "id": "lp8UHYX6JSBC",
        "colab_type": "code",
        "colab": {}
      },
      "source": [
        "# Lists are not great for numerical compytaionss"
      ],
      "execution_count": 0,
      "outputs": []
    },
    {
      "cell_type": "code",
      "metadata": {
        "id": "1jpc8M-DJSBI",
        "colab_type": "code",
        "colab": {}
      },
      "source": [
        "# Here comes numpy"
      ],
      "execution_count": 0,
      "outputs": []
    },
    {
      "cell_type": "code",
      "metadata": {
        "id": "Fyi6QTHWJSBO",
        "colab_type": "code",
        "colab": {}
      },
      "source": [
        "import numpy as np"
      ],
      "execution_count": 0,
      "outputs": []
    },
    {
      "cell_type": "code",
      "metadata": {
        "id": "-ldb8YRTJSBT",
        "colab_type": "code",
        "colab": {}
      },
      "source": [
        "myArr = np.array(myList)"
      ],
      "execution_count": 0,
      "outputs": []
    },
    {
      "cell_type": "code",
      "metadata": {
        "id": "hzP8rpQQJSBb",
        "colab_type": "code",
        "colab": {},
        "outputId": "867e9d77-a5af-4bfc-db86-46ce684da000"
      },
      "source": [
        "myArr"
      ],
      "execution_count": 0,
      "outputs": [
        {
          "output_type": "execute_result",
          "data": {
            "text/plain": [
              "array([1, 2, 3, 4, 5])"
            ]
          },
          "metadata": {
            "tags": []
          },
          "execution_count": 27
        }
      ]
    },
    {
      "cell_type": "code",
      "metadata": {
        "id": "WOunD5kkJSBi",
        "colab_type": "code",
        "colab": {},
        "outputId": "292b5d35-c823-448c-ec33-df224e0663dd"
      },
      "source": [
        "#broadacsting of operations\n",
        "myArr*3"
      ],
      "execution_count": 0,
      "outputs": [
        {
          "output_type": "execute_result",
          "data": {
            "text/plain": [
              "array([ 3,  6,  9, 12, 15])"
            ]
          },
          "metadata": {
            "tags": []
          },
          "execution_count": 28
        }
      ]
    },
    {
      "cell_type": "code",
      "metadata": {
        "id": "Dfmh-xuUJSBp",
        "colab_type": "code",
        "colab": {},
        "outputId": "abd262b4-6d6f-4f46-dcf7-d60ae5b82f0b"
      },
      "source": [
        "myList"
      ],
      "execution_count": 0,
      "outputs": [
        {
          "output_type": "execute_result",
          "data": {
            "text/plain": [
              "[1, 2, 3, 4, 5]"
            ]
          },
          "metadata": {
            "tags": []
          },
          "execution_count": 36
        }
      ]
    },
    {
      "cell_type": "code",
      "metadata": {
        "scrolled": false,
        "id": "uWxzHPkUJSBx",
        "colab_type": "code",
        "colab": {},
        "outputId": "3cb0b3ac-39e7-445c-e9a8-9d0ec96c69e3"
      },
      "source": [
        "myArr"
      ],
      "execution_count": 0,
      "outputs": [
        {
          "output_type": "execute_result",
          "data": {
            "text/plain": [
              "array([1, 2, 3, 4, 5])"
            ]
          },
          "metadata": {
            "tags": []
          },
          "execution_count": 37
        }
      ]
    },
    {
      "cell_type": "code",
      "metadata": {
        "id": "WumUAwqfJSB7",
        "colab_type": "code",
        "colab": {},
        "outputId": "ae3fe7f4-aba8-4b10-9f24-bea932bb9da5"
      },
      "source": [
        "myList*3"
      ],
      "execution_count": 0,
      "outputs": [
        {
          "output_type": "execute_result",
          "data": {
            "text/plain": [
              "[1, 2, 3, 4, 5, 1, 2, 3, 4, 5, 1, 2, 3, 4, 5]"
            ]
          },
          "metadata": {
            "tags": []
          },
          "execution_count": 38
        }
      ]
    },
    {
      "cell_type": "code",
      "metadata": {
        "id": "SmVEQnNAJSCG",
        "colab_type": "code",
        "colab": {},
        "outputId": "9db99bcf-c93c-4dd7-9a31-6a95c5b02ac5"
      },
      "source": [
        "myArr*3"
      ],
      "execution_count": 0,
      "outputs": [
        {
          "output_type": "execute_result",
          "data": {
            "text/plain": [
              "array([ 3,  6,  9, 12, 15])"
            ]
          },
          "metadata": {
            "tags": []
          },
          "execution_count": 39
        }
      ]
    },
    {
      "cell_type": "code",
      "metadata": {
        "id": "GbUUEepeJSCN",
        "colab_type": "code",
        "colab": {},
        "outputId": "2297a52f-9158-4411-f4fa-5397288f1011"
      },
      "source": [
        "myArr **2"
      ],
      "execution_count": 0,
      "outputs": [
        {
          "output_type": "execute_result",
          "data": {
            "text/plain": [
              "array([ 1,  4,  9, 16, 25])"
            ]
          },
          "metadata": {
            "tags": []
          },
          "execution_count": 29
        }
      ]
    },
    {
      "cell_type": "code",
      "metadata": {
        "id": "VlfFhumuJSCZ",
        "colab_type": "code",
        "colab": {},
        "outputId": "df996378-1d62-46ef-fefc-2dd8805c0a8e"
      },
      "source": [
        "myArr + 100"
      ],
      "execution_count": 0,
      "outputs": [
        {
          "output_type": "execute_result",
          "data": {
            "text/plain": [
              "array([101, 102, 103, 104, 105])"
            ]
          },
          "metadata": {
            "tags": []
          },
          "execution_count": 30
        }
      ]
    },
    {
      "cell_type": "code",
      "metadata": {
        "id": "IbI-lCNbJSCv",
        "colab_type": "code",
        "colab": {},
        "outputId": "6e8cc7ee-baee-467f-f485-80f704598cfd"
      },
      "source": [
        "np.log(myArr)"
      ],
      "execution_count": 0,
      "outputs": [
        {
          "output_type": "execute_result",
          "data": {
            "text/plain": [
              "array([0.        , 0.69314718, 1.09861229, 1.38629436, 1.60943791])"
            ]
          },
          "metadata": {
            "tags": []
          },
          "execution_count": 31
        }
      ]
    },
    {
      "cell_type": "code",
      "metadata": {
        "scrolled": true,
        "id": "PkFm9In5JSC4",
        "colab_type": "code",
        "colab": {},
        "outputId": "1f848689-c33c-4889-bd4b-f39750e58310"
      },
      "source": [
        "np.exp(myArr)"
      ],
      "execution_count": 0,
      "outputs": [
        {
          "output_type": "execute_result",
          "data": {
            "text/plain": [
              "array([  2.71828183,   7.3890561 ,  20.08553692,  54.59815003,\n",
              "       148.4131591 ])"
            ]
          },
          "metadata": {
            "tags": []
          },
          "execution_count": 32
        }
      ]
    },
    {
      "cell_type": "code",
      "metadata": {
        "id": "MBN7TULVJSDB",
        "colab_type": "code",
        "colab": {},
        "outputId": "fd1629e6-32b1-4e65-8317-5ecb44449a16"
      },
      "source": [
        "np.log2(myArr)"
      ],
      "execution_count": 0,
      "outputs": [
        {
          "output_type": "execute_result",
          "data": {
            "text/plain": [
              "array([0.        , 1.        , 1.5849625 , 2.        , 2.32192809])"
            ]
          },
          "metadata": {
            "tags": []
          },
          "execution_count": 33
        }
      ]
    },
    {
      "cell_type": "code",
      "metadata": {
        "id": "-uJjiHpiJSDM",
        "colab_type": "code",
        "colab": {}
      },
      "source": [
        "# Numpy is great for numerical computaions!!"
      ],
      "execution_count": 0,
      "outputs": []
    },
    {
      "cell_type": "code",
      "metadata": {
        "id": "6T3Ym7yPJSDV",
        "colab_type": "code",
        "colab": {}
      },
      "source": [
        "# How to creat nD arrays and intialize them"
      ],
      "execution_count": 0,
      "outputs": []
    },
    {
      "cell_type": "code",
      "metadata": {
        "id": "3M1ENYvjJSDf",
        "colab_type": "code",
        "colab": {}
      },
      "source": [
        "arr2D = np.zeros((5,5))"
      ],
      "execution_count": 0,
      "outputs": []
    },
    {
      "cell_type": "code",
      "metadata": {
        "scrolled": true,
        "id": "rcsK_Rl3JSDn",
        "colab_type": "code",
        "colab": {},
        "outputId": "33e52955-879e-4656-b637-335004790527"
      },
      "source": [
        "arr2D"
      ],
      "execution_count": 0,
      "outputs": [
        {
          "output_type": "execute_result",
          "data": {
            "text/plain": [
              "array([[0., 0., 0., 0., 0.],\n",
              "       [0., 0., 0., 0., 0.],\n",
              "       [0., 0., 0., 0., 0.],\n",
              "       [0., 0., 0., 0., 0.],\n",
              "       [0., 0., 0., 0., 0.]])"
            ]
          },
          "metadata": {
            "tags": []
          },
          "execution_count": 41
        }
      ]
    },
    {
      "cell_type": "code",
      "metadata": {
        "id": "6BkM0ZdmJSEU",
        "colab_type": "code",
        "colab": {}
      },
      "source": [
        "arr2D1s = np.ones((4,3), dtype = int)"
      ],
      "execution_count": 0,
      "outputs": []
    },
    {
      "cell_type": "code",
      "metadata": {
        "id": "9emcYdcfJSEl",
        "colab_type": "code",
        "colab": {},
        "outputId": "0fc1120e-30a9-43d7-d570-99c04fafde6e"
      },
      "source": [
        "arr2D1s"
      ],
      "execution_count": 0,
      "outputs": [
        {
          "output_type": "execute_result",
          "data": {
            "text/plain": [
              "array([[1, 1, 1],\n",
              "       [1, 1, 1],\n",
              "       [1, 1, 1],\n",
              "       [1, 1, 1]])"
            ]
          },
          "metadata": {
            "tags": []
          },
          "execution_count": 45
        }
      ]
    },
    {
      "cell_type": "code",
      "metadata": {
        "id": "WywSVR4eJSEw",
        "colab_type": "code",
        "colab": {}
      },
      "source": [
        "# working with matrices"
      ],
      "execution_count": 0,
      "outputs": []
    },
    {
      "cell_type": "code",
      "metadata": {
        "id": "musxX9sMJSE2",
        "colab_type": "code",
        "colab": {}
      },
      "source": [
        "myMAt = np.random.randint(1,10,(4,4))"
      ],
      "execution_count": 0,
      "outputs": []
    },
    {
      "cell_type": "code",
      "metadata": {
        "id": "7DPwCc3aJSE6",
        "colab_type": "code",
        "colab": {},
        "outputId": "3dd43fb7-29ec-4c46-e3f0-92229a281102"
      },
      "source": [
        "myMAt"
      ],
      "execution_count": 0,
      "outputs": [
        {
          "output_type": "execute_result",
          "data": {
            "text/plain": [
              "array([[1, 6, 7, 2],\n",
              "       [5, 6, 7, 7],\n",
              "       [2, 4, 7, 5],\n",
              "       [5, 1, 6, 6]])"
            ]
          },
          "metadata": {
            "tags": []
          },
          "execution_count": 51
        }
      ]
    },
    {
      "cell_type": "code",
      "metadata": {
        "id": "yiv6eZnXJSFN",
        "colab_type": "code",
        "colab": {}
      },
      "source": [
        "#inverse of matrix"
      ],
      "execution_count": 0,
      "outputs": []
    },
    {
      "cell_type": "code",
      "metadata": {
        "id": "5Ec6Le9bJSFS",
        "colab_type": "code",
        "colab": {}
      },
      "source": [
        "invMat = np.linalg.inv(myMAt)"
      ],
      "execution_count": 0,
      "outputs": []
    },
    {
      "cell_type": "code",
      "metadata": {
        "scrolled": true,
        "id": "icNgb42HJSFX",
        "colab_type": "code",
        "colab": {},
        "outputId": "c381a4c4-1140-4d60-8135-42e046482c43"
      },
      "source": [
        "invMat"
      ],
      "execution_count": 0,
      "outputs": [
        {
          "output_type": "execute_result",
          "data": {
            "text/plain": [
              "array([[ 0.22924901,  0.10671937, -0.57312253,  0.27667984],\n",
              "       [ 0.03952569,  0.22529644, -0.09881423, -0.19367589],\n",
              "       [ 0.18577075, -0.24110672,  0.03557312,  0.18972332],\n",
              "       [-0.38339921,  0.11462451,  0.45849802, -0.22134387]])"
            ]
          },
          "metadata": {
            "tags": []
          },
          "execution_count": 54
        }
      ]
    },
    {
      "cell_type": "code",
      "metadata": {
        "scrolled": false,
        "id": "RftU0mJIJSFg",
        "colab_type": "code",
        "colab": {},
        "outputId": "46836346-8335-4ac3-ac82-7bee84cd9e4e"
      },
      "source": [
        "myMAt.dot(invMat)"
      ],
      "execution_count": 0,
      "outputs": [
        {
          "output_type": "execute_result",
          "data": {
            "text/plain": [
              "array([[ 1.00000000e+00,  1.11022302e-16,  0.00000000e+00,\n",
              "         1.11022302e-16],\n",
              "       [ 0.00000000e+00,  1.00000000e+00,  0.00000000e+00,\n",
              "         0.00000000e+00],\n",
              "       [ 0.00000000e+00,  0.00000000e+00,  1.00000000e+00,\n",
              "         0.00000000e+00],\n",
              "       [ 0.00000000e+00, -1.11022302e-16,  4.44089210e-16,\n",
              "         1.00000000e+00]])"
            ]
          },
          "metadata": {
            "tags": []
          },
          "execution_count": 55
        }
      ]
    },
    {
      "cell_type": "code",
      "metadata": {
        "id": "23QD6a5LJSFv",
        "colab_type": "code",
        "colab": {}
      },
      "source": [
        "# Lets understand normal distribution\n",
        "# mean = mediean = mode\n",
        "# freq is highest at the mean  and  drops down both sides going down to \n",
        "# almost zero for mean +3sigma and mean -3sigma\n"
      ],
      "execution_count": 0,
      "outputs": []
    },
    {
      "cell_type": "code",
      "metadata": {
        "id": "QPjiF39yJSF3",
        "colab_type": "code",
        "colab": {}
      },
      "source": [
        "bellData = np.random.normal( 70, 10, (2000))"
      ],
      "execution_count": 0,
      "outputs": []
    },
    {
      "cell_type": "code",
      "metadata": {
        "scrolled": false,
        "id": "F4N5x3SgJSF9",
        "colab_type": "code",
        "colab": {},
        "outputId": "11c67dba-7c0c-40d1-8198-74403300c8f7"
      },
      "source": [
        "bellData"
      ],
      "execution_count": 0,
      "outputs": [
        {
          "output_type": "execute_result",
          "data": {
            "text/plain": [
              "array([72.42477919, 53.64133461, 70.09679827, ..., 74.75719891,\n",
              "       74.11348905, 73.72406341])"
            ]
          },
          "metadata": {
            "tags": []
          },
          "execution_count": 57
        }
      ]
    },
    {
      "cell_type": "code",
      "metadata": {
        "scrolled": true,
        "id": "gHBmJCQsJSGD",
        "colab_type": "code",
        "colab": {},
        "outputId": "02c26ebd-91f2-4e81-e809-93af6cc688c0"
      },
      "source": [
        "bellData.std()"
      ],
      "execution_count": 0,
      "outputs": [
        {
          "output_type": "execute_result",
          "data": {
            "text/plain": [
              "10.17655620882833"
            ]
          },
          "metadata": {
            "tags": []
          },
          "execution_count": 62
        }
      ]
    },
    {
      "cell_type": "code",
      "metadata": {
        "scrolled": true,
        "id": "IPx4BksrJSGJ",
        "colab_type": "code",
        "colab": {},
        "outputId": "d3fe6f96-7670-44f0-b5ea-399c1be50d4e"
      },
      "source": [
        "bellData.mean()"
      ],
      "execution_count": 0,
      "outputs": [
        {
          "output_type": "execute_result",
          "data": {
            "text/plain": [
              "69.8680775812197"
            ]
          },
          "metadata": {
            "tags": []
          },
          "execution_count": 63
        }
      ]
    },
    {
      "cell_type": "code",
      "metadata": {
        "id": "SDbI0vIYJSGQ",
        "colab_type": "code",
        "colab": {},
        "outputId": "dd9a5719-23cd-40d4-cbea-09e529413bcf"
      },
      "source": [
        "bellData.max()"
      ],
      "execution_count": 0,
      "outputs": [
        {
          "output_type": "execute_result",
          "data": {
            "text/plain": [
              "101.33069326115749"
            ]
          },
          "metadata": {
            "tags": []
          },
          "execution_count": 64
        }
      ]
    },
    {
      "cell_type": "code",
      "metadata": {
        "id": "p3uxg-lcJSGW",
        "colab_type": "code",
        "colab": {},
        "outputId": "e8dbbca5-f1b5-4f17-f75a-c052b0c8b417"
      },
      "source": [
        "bellData.argmax()"
      ],
      "execution_count": 0,
      "outputs": [
        {
          "output_type": "execute_result",
          "data": {
            "text/plain": [
              "631"
            ]
          },
          "metadata": {
            "tags": []
          },
          "execution_count": 65
        }
      ]
    },
    {
      "cell_type": "code",
      "metadata": {
        "id": "IV1QVuKXJSGd",
        "colab_type": "code",
        "colab": {}
      },
      "source": [
        "import matplotlib.pyplot as plt\n",
        "%matplotlib inline\n",
        "import seaborn as sns"
      ],
      "execution_count": 0,
      "outputs": []
    },
    {
      "cell_type": "code",
      "metadata": {
        "scrolled": false,
        "id": "5S7spUGGJSGh",
        "colab_type": "code",
        "colab": {},
        "outputId": "2c0dc8e5-c3e0-43ff-f333-7d7c9104647e"
      },
      "source": [
        "sns.distplot(bellData, bins =40)"
      ],
      "execution_count": 0,
      "outputs": [
        {
          "output_type": "stream",
          "text": [
            "/Users/apple/anaconda3/lib/python3.6/site-packages/matplotlib/axes/_axes.py:6462: UserWarning: The 'normed' kwarg is deprecated, and has been replaced by the 'density' kwarg.\n",
            "  warnings.warn(\"The 'normed' kwarg is deprecated, and has been \"\n"
          ],
          "name": "stderr"
        },
        {
          "output_type": "execute_result",
          "data": {
            "text/plain": [
              "<matplotlib.axes._subplots.AxesSubplot at 0x114dfde48>"
            ]
          },
          "metadata": {
            "tags": []
          },
          "execution_count": 67
        },
        {
          "output_type": "display_data",
          "data": {
            "image/png": "[encoded data removed]",
            "text/plain": [
              "<Figure size 432x288 with 1 Axes>"
            ]
          },
          "metadata": {
            "tags": []
          }
        }
      ]
    },
    {
      "cell_type": "code",
      "metadata": {
        "id": "FJtZrTXaJSGr",
        "colab_type": "code",
        "colab": {}
      },
      "source": [
        "#Lets see the countplots\n",
        "arrOneD = np.random.randint(1,10,(10000))"
      ],
      "execution_count": 0,
      "outputs": []
    },
    {
      "cell_type": "code",
      "metadata": {
        "scrolled": true,
        "id": "VFqq7FV-JSG4",
        "colab_type": "code",
        "colab": {},
        "outputId": "716592f4-f358-4e06-e76d-5116198467e5"
      },
      "source": [
        "sns.countplot(arrOneD)"
      ],
      "execution_count": 0,
      "outputs": [
        {
          "output_type": "execute_result",
          "data": {
            "text/plain": [
              "<matplotlib.axes._subplots.AxesSubplot at 0x114c02a20>"
            ]
          },
          "metadata": {
            "tags": []
          },
          "execution_count": 61
        },
        {
          "output_type": "display_data",
          "data": {
            "image/png": "[encoded data removed]",
            "text/plain": [
              "<Figure size 432x288 with 1 Axes>"
            ]
          },
          "metadata": {
            "tags": []
          }
        }
      ]
    },
    {
      "cell_type": "code",
      "metadata": {
        "id": "yKylC74uJSHD",
        "colab_type": "code",
        "colab": {}
      },
      "source": [
        "def sigmoid(x):\n",
        "    return ( 1/(1+np.exp(-x)))"
      ],
      "execution_count": 0,
      "outputs": []
    },
    {
      "cell_type": "code",
      "metadata": {
        "id": "oWrvjRp4JSHI",
        "colab_type": "code",
        "colab": {},
        "outputId": "fb12397b-93d0-4a2e-dda5-8652bce6d331"
      },
      "source": [
        "sigmoid(0)"
      ],
      "execution_count": 0,
      "outputs": [
        {
          "output_type": "execute_result",
          "data": {
            "text/plain": [
              "0.5"
            ]
          },
          "metadata": {
            "tags": []
          },
          "execution_count": 70
        }
      ]
    },
    {
      "cell_type": "code",
      "metadata": {
        "id": "7ex7iDgXJSHP",
        "colab_type": "code",
        "colab": {},
        "outputId": "038c365b-6c44-473f-e05c-bf7eea18b923"
      },
      "source": [
        "sigmoid(10)"
      ],
      "execution_count": 0,
      "outputs": [
        {
          "output_type": "execute_result",
          "data": {
            "text/plain": [
              "0.9999546021312976"
            ]
          },
          "metadata": {
            "tags": []
          },
          "execution_count": 71
        }
      ]
    },
    {
      "cell_type": "code",
      "metadata": {
        "id": "jyvWkSl-JSHe",
        "colab_type": "code",
        "colab": {}
      },
      "source": [
        "xvalues = np.linspace(-20, 20, 400)"
      ],
      "execution_count": 0,
      "outputs": []
    },
    {
      "cell_type": "code",
      "metadata": {
        "scrolled": true,
        "id": "sTr8Af14JSHj",
        "colab_type": "code",
        "colab": {},
        "outputId": "a8badcb1-9fa6-40ad-8da6-b69edf7388c2"
      },
      "source": [
        "plt.plot(xvalues , sigmoid(xvalues), color = 'blue')"
      ],
      "execution_count": 0,
      "outputs": [
        {
          "output_type": "execute_result",
          "data": {
            "text/plain": [
              "[<matplotlib.lines.Line2D at 0x11500dd68>]"
            ]
          },
          "metadata": {
            "tags": []
          },
          "execution_count": 73
        },
        {
          "output_type": "display_data",
          "data": {
            "image/png": "[encoded data removed]",
            "text/plain": [
              "<Figure size 432x288 with 1 Axes>"
            ]
          },
          "metadata": {
            "tags": []
          }
        }
      ]
    },
    {
      "cell_type": "code",
      "metadata": {
        "id": "JGfjAYzZJSHv",
        "colab_type": "code",
        "colab": {}
      },
      "source": [
        "\"\"\"\n",
        "This is a derivative function\n",
        "arguments : f : function name for which deruvation is done\n",
        "            x : value of input at which derivative is claculated\n",
        "            eps : small +ve value default 0.000001\n",
        "\"\"\"\n",
        "def derivative(f, x, eps=0.000001):\n",
        "    return( (f(x+eps)-f(x-eps))/(2*eps) )"
      ],
      "execution_count": 0,
      "outputs": []
    },
    {
      "cell_type": "code",
      "metadata": {
        "id": "4nxXYxaiJSH1",
        "colab_type": "code",
        "colab": {},
        "outputId": "95e5a8f8-9c82-4e36-f66a-5f5d5fb63136"
      },
      "source": [
        "plt.plot(xvalues , sigmoid(xvalues), color = 'blue')\n",
        "plt.plot(xvalues , derivative(sigmoid,xvalues), color = 'orange')"
      ],
      "execution_count": 0,
      "outputs": [
        {
          "output_type": "execute_result",
          "data": {
            "text/plain": [
              "[<matplotlib.lines.Line2D at 0x11503ffd0>]"
            ]
          },
          "metadata": {
            "tags": []
          },
          "execution_count": 75
        },
        {
          "output_type": "display_data",
          "data": {
            "image/png": "[encoded data removed]",
            "text/plain": [
              "<Figure size 432x288 with 1 Axes>"
            ]
          },
          "metadata": {
            "tags": []
          }
        }
      ]
    },
    {
      "cell_type": "code",
      "metadata": {
        "id": "CCd9uzDRJSH8",
        "colab_type": "code",
        "colab": {}
      },
      "source": [
        "from sklearn import datasets\n",
        "import numpy as np\n",
        "\n",
        "iris = datasets.load_iris()\n",
        "\n",
        "X = iris.data[:, [0,1, 2, 3]]\n",
        "y = iris.target"
      ],
      "execution_count": 0,
      "outputs": []
    },
    {
      "cell_type": "code",
      "metadata": {
        "scrolled": true,
        "id": "LRpaBoppJSIB",
        "colab_type": "code",
        "colab": {},
        "outputId": "0fbea773-9eb0-4dd4-8ce7-77ab508a01ac"
      },
      "source": [
        "X[95:105]"
      ],
      "execution_count": 0,
      "outputs": [
        {
          "output_type": "execute_result",
          "data": {
            "text/plain": [
              "array([[5.7, 3. , 4.2, 1.2],\n",
              "       [5.7, 2.9, 4.2, 1.3],\n",
              "       [6.2, 2.9, 4.3, 1.3],\n",
              "       [5.1, 2.5, 3. , 1.1],\n",
              "       [5.7, 2.8, 4.1, 1.3],\n",
              "       [6.3, 3.3, 6. , 2.5],\n",
              "       [5.8, 2.7, 5.1, 1.9],\n",
              "       [7.1, 3. , 5.9, 2.1],\n",
              "       [6.3, 2.9, 5.6, 1.8],\n",
              "       [6.5, 3. , 5.8, 2.2]])"
            ]
          },
          "metadata": {
            "tags": []
          },
          "execution_count": 80
        }
      ]
    },
    {
      "cell_type": "code",
      "metadata": {
        "id": "ExKG3n9_JSIJ",
        "colab_type": "code",
        "colab": {},
        "outputId": "882eb08b-1dee-4835-de6b-81fa2bee5cc0"
      },
      "source": [
        "y[95:105]"
      ],
      "execution_count": 0,
      "outputs": [
        {
          "output_type": "execute_result",
          "data": {
            "text/plain": [
              "array([1, 1, 1, 1, 1, 2, 2, 2, 2, 2])"
            ]
          },
          "metadata": {
            "tags": []
          },
          "execution_count": 78
        }
      ]
    },
    {
      "cell_type": "code",
      "metadata": {
        "id": "-BPuFXuvJSIO",
        "colab_type": "code",
        "colab": {}
      },
      "source": [
        "# class 0 = Setosa, 1 = Versicolor and 2 refers to virginica"
      ],
      "execution_count": 0,
      "outputs": []
    },
    {
      "cell_type": "code",
      "metadata": {
        "id": "hqhSrMiPJSIV",
        "colab_type": "code",
        "colab": {},
        "outputId": "bd9444d8-e688-45b5-b2bb-85c26a8df102"
      },
      "source": [
        "type(X)"
      ],
      "execution_count": 0,
      "outputs": [
        {
          "output_type": "execute_result",
          "data": {
            "text/plain": [
              "numpy.ndarray"
            ]
          },
          "metadata": {
            "tags": []
          },
          "execution_count": 82
        }
      ]
    },
    {
      "cell_type": "code",
      "metadata": {
        "id": "SpVuaxelJSIr",
        "colab_type": "code",
        "colab": {}
      },
      "source": [
        "# Lets practice a bit of pandas"
      ],
      "execution_count": 0,
      "outputs": []
    },
    {
      "cell_type": "code",
      "metadata": {
        "id": "WmH6bdPoJSIv",
        "colab_type": "code",
        "colab": {}
      },
      "source": [
        "import pandas as pd\n",
        "dataSet = pd.DataFrame(X)"
      ],
      "execution_count": 0,
      "outputs": []
    },
    {
      "cell_type": "code",
      "metadata": {
        "id": "tsjErTCjJSI1",
        "colab_type": "code",
        "colab": {},
        "outputId": "a6b1e186-0db4-4e3b-8bc4-929e2f65134d"
      },
      "source": [
        "dataSet.columns"
      ],
      "execution_count": 0,
      "outputs": [
        {
          "output_type": "execute_result",
          "data": {
            "text/plain": [
              "RangeIndex(start=0, stop=4, step=1)"
            ]
          },
          "metadata": {
            "tags": []
          },
          "execution_count": 85
        }
      ]
    },
    {
      "cell_type": "code",
      "metadata": {
        "id": "H3rcfr1iJSK3",
        "colab_type": "code",
        "colab": {}
      },
      "source": [
        "#Lets add anew column to the dataframe"
      ],
      "execution_count": 0,
      "outputs": []
    },
    {
      "cell_type": "code",
      "metadata": {
        "id": "A8BtSpRRJSLo",
        "colab_type": "code",
        "colab": {}
      },
      "source": [
        "dataSet['target'] = y"
      ],
      "execution_count": 0,
      "outputs": []
    },
    {
      "cell_type": "code",
      "metadata": {
        "id": "BWsqcHYcJSLt",
        "colab_type": "code",
        "colab": {},
        "outputId": "323ee1cd-fa25-46c2-ef71-4a4f3284a8fd"
      },
      "source": [
        "dataSet.head()"
      ],
      "execution_count": 0,
      "outputs": [
        {
          "output_type": "execute_result",
          "data": {
            "text/html": [
              "<div>\n",
              "<style scoped>\n",
              "    .dataframe tbody tr th:only-of-type {\n",
              "        vertical-align: middle;\n",
              "    }\n",
              "\n",
              "    .dataframe tbody tr th {\n",
              "        vertical-align: top;\n",
              "    }\n",
              "\n",
              "    .dataframe thead th {\n",
              "        text-align: right;\n",
              "    }\n",
              "</style>\n",
              "<table border=\"1\" class=\"dataframe\">\n",
              "  <thead>\n",
              "    <tr style=\"text-align: right;\">\n",
              "      <th></th>\n",
              "      <th>0</th>\n",
              "      <th>1</th>\n",
              "      <th>2</th>\n",
              "      <th>3</th>\n",
              "      <th>target</th>\n",
              "    </tr>\n",
              "  </thead>\n",
              "  <tbody>\n",
              "    <tr>\n",
              "      <th>0</th>\n",
              "      <td>5.1</td>\n",
              "      <td>3.5</td>\n",
              "      <td>1.4</td>\n",
              "      <td>0.2</td>\n",
              "      <td>0</td>\n",
              "    </tr>\n",
              "    <tr>\n",
              "      <th>1</th>\n",
              "      <td>4.9</td>\n",
              "      <td>3.0</td>\n",
              "      <td>1.4</td>\n",
              "      <td>0.2</td>\n",
              "      <td>0</td>\n",
              "    </tr>\n",
              "    <tr>\n",
              "      <th>2</th>\n",
              "      <td>4.7</td>\n",
              "      <td>3.2</td>\n",
              "      <td>1.3</td>\n",
              "      <td>0.2</td>\n",
              "      <td>0</td>\n",
              "    </tr>\n",
              "    <tr>\n",
              "      <th>3</th>\n",
              "      <td>4.6</td>\n",
              "      <td>3.1</td>\n",
              "      <td>1.5</td>\n",
              "      <td>0.2</td>\n",
              "      <td>0</td>\n",
              "    </tr>\n",
              "    <tr>\n",
              "      <th>4</th>\n",
              "      <td>5.0</td>\n",
              "      <td>3.6</td>\n",
              "      <td>1.4</td>\n",
              "      <td>0.2</td>\n",
              "      <td>0</td>\n",
              "    </tr>\n",
              "  </tbody>\n",
              "</table>\n",
              "</div>"
            ],
            "text/plain": [
              "     0    1    2    3  target\n",
              "0  5.1  3.5  1.4  0.2       0\n",
              "1  4.9  3.0  1.4  0.2       0\n",
              "2  4.7  3.2  1.3  0.2       0\n",
              "3  4.6  3.1  1.5  0.2       0\n",
              "4  5.0  3.6  1.4  0.2       0"
            ]
          },
          "metadata": {
            "tags": []
          },
          "execution_count": 88
        }
      ]
    },
    {
      "cell_type": "code",
      "metadata": {
        "scrolled": true,
        "id": "x_HLpqY9JSNI",
        "colab_type": "code",
        "colab": {},
        "outputId": "93db878a-ccf4-4716-9a83-cd9b7db0e830"
      },
      "source": [
        "#correlation heatmap\n",
        "corrMap = dataSet.corr()\n",
        "sns.heatmap(corrMap, annot = True, cmap = \"coolwarm\")"
      ],
      "execution_count": 0,
      "outputs": [
        {
          "output_type": "execute_result",
          "data": {
            "text/plain": [
              "<matplotlib.axes._subplots.AxesSubplot at 0x115e7eef0>"
            ]
          },
          "metadata": {
            "tags": []
          },
          "execution_count": 89
        },
        {
          "output_type": "display_data",
          "data": {
            "image/png": "[encoded data removed]",
            "text/plain": [
              "<Figure size 432x288 with 2 Axes>"
            ]
          },
          "metadata": {
            "tags": []
          }
        }
      ]
    },
    {
      "cell_type": "code",
      "metadata": {
        "id": "bMYIfpO8JSOx",
        "colab_type": "code",
        "colab": {}
      },
      "source": [
        "X = X[:, [2,3]]"
      ],
      "execution_count": 0,
      "outputs": []
    },
    {
      "cell_type": "code",
      "metadata": {
        "id": "D9mEuIxoJSPY",
        "colab_type": "code",
        "colab": {},
        "outputId": "26126bfd-9853-452c-f7f0-97bc20c68fac"
      },
      "source": [
        "X.shape"
      ],
      "execution_count": 0,
      "outputs": [
        {
          "output_type": "execute_result",
          "data": {
            "text/plain": [
              "(150, 2)"
            ]
          },
          "metadata": {
            "tags": []
          },
          "execution_count": 91
        }
      ]
    },
    {
      "cell_type": "code",
      "metadata": {
        "id": "ggcVhNBQJSPl",
        "colab_type": "code",
        "colab": {}
      },
      "source": [
        "from sklearn.model_selection import train_test_split\n",
        "\n",
        "X_train, X_test, y_train, y_test = train_test_split(\n",
        "    X, y, test_size=0.3, random_state=1, stratify=y)"
      ],
      "execution_count": 0,
      "outputs": []
    },
    {
      "cell_type": "code",
      "metadata": {
        "id": "7QvW2o-kJSPp",
        "colab_type": "code",
        "colab": {}
      },
      "source": [
        "from sklearn.preprocessing import StandardScaler\n",
        "\n",
        "sc = StandardScaler()\n",
        "sc.fit(X_train)\n",
        "X_train_std = sc.transform(X_train)\n",
        "X_test_std = sc.transform(X_test)"
      ],
      "execution_count": 0,
      "outputs": []
    },
    {
      "cell_type": "code",
      "metadata": {
        "scrolled": true,
        "id": "CAR5TnIFJSP0",
        "colab_type": "code",
        "colab": {},
        "outputId": "89cf62b4-7998-44b1-bba4-eb8db979a7ab"
      },
      "source": [
        "sns.distplot(X_train[:,0])\n",
        "sns.distplot(X_train_std[:,0])"
      ],
      "execution_count": 0,
      "outputs": [
        {
          "output_type": "stream",
          "text": [
            "/Users/apple/anaconda3/lib/python3.6/site-packages/matplotlib/axes/_axes.py:6462: UserWarning: The 'normed' kwarg is deprecated, and has been replaced by the 'density' kwarg.\n",
            "  warnings.warn(\"The 'normed' kwarg is deprecated, and has been \"\n"
          ],
          "name": "stderr"
        },
        {
          "output_type": "execute_result",
          "data": {
            "text/plain": [
              "<matplotlib.axes._subplots.AxesSubplot at 0x11503f358>"
            ]
          },
          "metadata": {
            "tags": []
          },
          "execution_count": 95
        },
        {
          "output_type": "display_data",
          "data": {
            "image/png": "[encoded data removed]",
            "text/plain": [
              "<Figure size 432x288 with 1 Axes>"
            ]
          },
          "metadata": {
            "tags": []
          }
        }
      ]
    },
    {
      "cell_type": "code",
      "metadata": {
        "id": "ZukdLzpJJSP7",
        "colab_type": "code",
        "colab": {}
      },
      "source": [
        "# We will undersatnd blocks and loops"
      ],
      "execution_count": 0,
      "outputs": []
    },
    {
      "cell_type": "code",
      "metadata": {
        "scrolled": true,
        "id": "KJLytsHKJSP_",
        "colab_type": "code",
        "colab": {},
        "outputId": "675b7e3f-1894-45a7-80a3-c025504cfef9"
      },
      "source": [
        "#for loop\n",
        "for i in range(1,10):\n",
        "    print(\"Value of i and i**2 are: \" ,i,i**2 )\n",
        "print(\"I am outside the block... executes only once!\")"
      ],
      "execution_count": 0,
      "outputs": [
        {
          "output_type": "stream",
          "text": [
            "Value of i and i**2 are:  1 1\n",
            "Value of i and i**2 are:  2 4\n",
            "Value of i and i**2 are:  3 9\n",
            "Value of i and i**2 are:  4 16\n",
            "Value of i and i**2 are:  5 25\n",
            "Value of i and i**2 are:  6 36\n",
            "Value of i and i**2 are:  7 49\n",
            "Value of i and i**2 are:  8 64\n",
            "Value of i and i**2 are:  9 81\n",
            "I am outside the block... executes only once!\n"
          ],
          "name": "stdout"
        }
      ]
    },
    {
      "cell_type": "code",
      "metadata": {
        "id": "06ZTblV-JSQD",
        "colab_type": "code",
        "colab": {},
        "outputId": "1f664579-41a5-4f86-980c-d18ac9378ec5"
      },
      "source": [
        "# Below is an example of while loop\n",
        "x = 0\n",
        "while (x<20):\n",
        "    print(\"Value of x and x**2 are: \" ,x,x**2 )\n",
        "    x = x+2"
      ],
      "execution_count": 0,
      "outputs": [
        {
          "output_type": "stream",
          "text": [
            "Value of x and x**2 are:  0 0\n",
            "Value of x and x**2 are:  2 4\n",
            "Value of x and x**2 are:  4 16\n",
            "Value of x and x**2 are:  6 36\n",
            "Value of x and x**2 are:  8 64\n",
            "Value of x and x**2 are:  10 100\n",
            "Value of x and x**2 are:  12 144\n",
            "Value of x and x**2 are:  14 196\n",
            "Value of x and x**2 are:  16 256\n",
            "Value of x and x**2 are:  18 324\n"
          ],
          "name": "stdout"
        }
      ]
    },
    {
      "cell_type": "code",
      "metadata": {
        "id": "aOWPseZ6JSQJ",
        "colab_type": "code",
        "colab": {}
      },
      "source": [
        ""
      ],
      "execution_count": 0,
      "outputs": []
    }
  ]
}