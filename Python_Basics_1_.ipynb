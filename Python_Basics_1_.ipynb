{
  "nbformat": 4,
  "nbformat_minor": 0,
  "metadata": {
    "colab": {
      "name": "Python Basics -1 .ipynb",
      "version": "0.3.2",
      "provenance": []
    },
    "language_info": {
      "codemirror_mode": {
        "name": "ipython",
        "version": 3
      },
      "file_extension": ".py",
      "mimetype": "text/x-python",
      "name": "python",
      "nbconvert_exporter": "python",
      "pygments_lexer": "ipython3",
      "version": "3.6.8"
    },
    "kernelspec": {
      "display_name": "Python 3",
      "language": "python",
      "name": "python3"
    }
  },
  "cells": [
    {
      "cell_type": "code",
      "metadata": {
        "id": "FmU-vtT1jj41",
        "colab_type": "code",
        "colab": {}
      },
      "source": [
        "#To execute the cell (Shift + Enter)\n",
        "a = 10"
      ],
      "execution_count": 0,
      "outputs": []
    },
    {
      "cell_type": "code",
      "metadata": {
        "id": "6Vup0raMjj46",
        "colab_type": "code",
        "colab": {},
        "outputId": "9b26f906-f407-437c-b8ca-0d43bc0e05a9"
      },
      "source": [
        "type(a) #This function displays the datatype of the variable"
      ],
      "execution_count": 0,
      "outputs": [
        {
          "output_type": "execute_result",
          "data": {
            "text/plain": [
              "int"
            ]
          },
          "metadata": {
            "tags": []
          },
          "execution_count": 5
        }
      ]
    },
    {
      "cell_type": "code",
      "metadata": {
        "id": "Zrwvehzjjj5C",
        "colab_type": "code",
        "colab": {},
        "outputId": "2c21c5f9-90a3-41fa-fd7e-dbc25697c933"
      },
      "source": [
        "b = 2.3\n",
        "type(b)"
      ],
      "execution_count": 0,
      "outputs": [
        {
          "output_type": "execute_result",
          "data": {
            "text/plain": [
              "float"
            ]
          },
          "metadata": {
            "tags": []
          },
          "execution_count": 6
        }
      ]
    },
    {
      "cell_type": "code",
      "metadata": {
        "id": "vhyBDk0njj5G",
        "colab_type": "code",
        "colab": {},
        "outputId": "17375141-73a3-4b8b-9163-b2088ebfd1c2"
      },
      "source": [
        "c = \"Prashant Nair\"\n",
        "type(c)"
      ],
      "execution_count": 0,
      "outputs": [
        {
          "output_type": "execute_result",
          "data": {
            "text/plain": [
              "str"
            ]
          },
          "metadata": {
            "tags": []
          },
          "execution_count": 7
        }
      ]
    },
    {
      "cell_type": "code",
      "metadata": {
        "id": "aN4bNwPDjj5K",
        "colab_type": "code",
        "colab": {},
        "outputId": "29da63fc-0dd0-43ca-d1d8-f18dbf960adb"
      },
      "source": [
        "a = '5'\n",
        "b = '5'\n",
        "#Typecasting --- Conversion of variable from one datatype to another considering the destination datatype supports\n",
        "#the data\n",
        "print(type(a))\n",
        "print(type(b))"
      ],
      "execution_count": 0,
      "outputs": [
        {
          "output_type": "stream",
          "text": [
            "<class 'str'>\n",
            "<class 'str'>\n"
          ],
          "name": "stdout"
        }
      ]
    },
    {
      "cell_type": "code",
      "metadata": {
        "id": "PJhE-FhXjj5P",
        "colab_type": "code",
        "colab": {},
        "outputId": "2c538ce5-dcf0-42c6-9b67-f5d89d16a30e"
      },
      "source": [
        "a = int(a)\n",
        "b = int(b)\n",
        "print(type(a))\n",
        "print(type(b))"
      ],
      "execution_count": 0,
      "outputs": [
        {
          "output_type": "stream",
          "text": [
            "<class 'int'>\n",
            "<class 'int'>\n"
          ],
          "name": "stdout"
        }
      ]
    },
    {
      "cell_type": "code",
      "metadata": {
        "id": "krbYX2Najj5T",
        "colab_type": "code",
        "colab": {},
        "outputId": "faa0c518-3da2-46c0-8cdb-a2c75b8e950e"
      },
      "source": [
        "#User input\n",
        "#Write a program to perform addition of two number\n",
        "num1 = int(input('Enter first number: '))\n",
        "num2 = int(input('Enter second number: '))\n",
        "result = num1+num2\n",
        "print(result)"
      ],
      "execution_count": 0,
      "outputs": [
        {
          "output_type": "stream",
          "text": [
            "Enter first number: 3\n",
            "Enter second number: 2\n",
            "5\n"
          ],
          "name": "stdout"
        }
      ]
    },
    {
      "cell_type": "code",
      "metadata": {
        "id": "45BdD7FKjj5X",
        "colab_type": "code",
        "colab": {},
        "outputId": "d124f14a-215f-4146-fcd9-74e14401c3d4"
      },
      "source": [
        "#Print Statement in Python\n",
        "print(\"The addition of {} and {} is {}\".format(num1,num2,result))"
      ],
      "execution_count": 0,
      "outputs": [
        {
          "output_type": "stream",
          "text": [
            "The addition of 3 and 2 is 5\n"
          ],
          "name": "stdout"
        }
      ]
    },
    {
      "cell_type": "code",
      "metadata": {
        "id": "vB44hmfmjj5c",
        "colab_type": "code",
        "colab": {},
        "outputId": "87f8f953-c904-4acf-a099-8cbce5a4f497"
      },
      "source": [
        "#Strings\n",
        "'Welcome to Simplilearn'"
      ],
      "execution_count": 0,
      "outputs": [
        {
          "output_type": "execute_result",
          "data": {
            "text/plain": [
              "'Welcome to Simplilearn'"
            ]
          },
          "metadata": {
            "tags": []
          },
          "execution_count": 16
        }
      ]
    },
    {
      "cell_type": "code",
      "metadata": {
        "id": "cL1yim4Qjj5h",
        "colab_type": "code",
        "colab": {},
        "outputId": "dc8b2c84-00c2-40aa-c1ab-320acf950c3d"
      },
      "source": [
        "\"Welcome to Simplilearn\""
      ],
      "execution_count": 0,
      "outputs": [
        {
          "output_type": "execute_result",
          "data": {
            "text/plain": [
              "'Welcome to Simplilearn'"
            ]
          },
          "metadata": {
            "tags": []
          },
          "execution_count": 17
        }
      ]
    },
    {
      "cell_type": "code",
      "metadata": {
        "id": "pL75vyFxjj5n",
        "colab_type": "code",
        "colab": {},
        "outputId": "e3d3170e-562c-40a3-ca9e-9b651a4cce27"
      },
      "source": [
        "\"It's Awesome\""
      ],
      "execution_count": 0,
      "outputs": [
        {
          "output_type": "execute_result",
          "data": {
            "text/plain": [
              "\"It's Awesome\""
            ]
          },
          "metadata": {
            "tags": []
          },
          "execution_count": 18
        }
      ]
    },
    {
      "cell_type": "code",
      "metadata": {
        "id": "Ics6-zHnjj5r",
        "colab_type": "code",
        "colab": {}
      },
      "source": [
        ""
      ],
      "execution_count": 0,
      "outputs": []
    }
  ]
}